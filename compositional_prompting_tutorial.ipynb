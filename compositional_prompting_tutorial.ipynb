{
 "cells": [
  {
   "cell_type": "markdown",
   "metadata": {},
   "source": [
    "# Compositional Prompting: A Comprehensive Tutorial\n",
    "\n",
    "## 🎯 Welcome to Systematic Prompt Engineering\n",
    "\n",
    "This notebook provides a complete guide to the **compositional prompting** library - a sophisticated framework that transforms prompt engineering from an art into a science. By factoring prompts into orthogonal dimensions, we create a structured action space that external systems (MCTS, RL agents, or humans) can systematically explore.\n",
    "\n",
    "### What You'll Learn:\n",
    "1. **Core Concepts**: Understanding the 5-dimensional compositional action space\n",
    "2. **Fluid API**: Building prompts through elegant method chaining\n",
    "3. **Advanced Composition**: Sequential, parallel, and algebraic prompt composition\n",
    "4. **Enhancement Layer**: Graph-based RAG, fast augmentation, and templates\n",
    "5. **Integration Patterns**: How MCTS, RL agents, and humans can leverage this framework\n",
    "\n",
    "### Prerequisites:\n",
    "- Basic Python knowledge\n",
    "- Familiarity with LLMs and prompting\n",
    "- Interest in systematic approaches to AI reasoning\n",
    "\n",
    "---"
   ]
  },
  {
   "cell_type": "markdown",
   "metadata": {},
   "source": [
    "## 📦 Setup and Installation\n",
    "\n",
    "First, let's install the package and import necessary modules:"
   ]
  },
  {
   "cell_type": "code",
   "execution_count": 1,
   "metadata": {
    "execution": {
     "iopub.execute_input": "2025-10-09T04:53:27.803571Z",
     "iopub.status.busy": "2025-10-09T04:53:27.803430Z",
     "iopub.status.idle": "2025-10-09T04:53:28.156309Z",
     "shell.execute_reply": "2025-10-09T04:53:28.155874Z"
    }
   },
   "outputs": [
    {
     "name": "stdout",
     "output_type": "stream",
     "text": [
      "✅ Setup complete! Let's explore compositional prompting...\n"
     ]
    }
   ],
   "source": [
    "# Install the package (uncomment if needed)\n",
    "# !pip install -e \".[dev]\"\n",
    "\n",
    "# Core imports\n",
    "from compositional_prompting import (\n",
    "    ComposingPrompt,\n",
    "    LLMProvider,\n",
    "    MockLLMProvider,\n",
    "    CognitiveOperation,\n",
    "    FocusAspect,\n",
    "    ReasoningStyle,\n",
    "    ConnectionType,\n",
    "    OutputFormat,\n",
    "    MetaStrategy,\n",
    "    ConfidenceLevel,\n",
    "    ReasoningDepth\n",
    ")\n",
    "\n",
    "# Visualization and utilities\n",
    "import json\n",
    "import numpy as np\n",
    "import matplotlib.pyplot as plt\n",
    "from typing import Dict, List, Tuple, Any, Optional  # Added Any and Optional\n",
    "from collections import Counter\n",
    "\n",
    "# Set up mock provider for demonstrations\n",
    "mock_provider = MockLLMProvider()\n",
    "\n",
    "print(\"✅ Setup complete! Let's explore compositional prompting...\")"
   ]
  },
  {
   "cell_type": "markdown",
   "metadata": {},
   "source": [
    "---\n",
    "\n",
    "## Part 1: Understanding the Compositional Action Space 🧩\n",
    "\n",
    "### The Core Insight\n",
    "\n",
    "Traditional prompt engineering involves crafting monolithic prompts through trial and error. Compositional prompting **factors** prompts into **orthogonal dimensions**, creating a structured space that can be systematically explored.\n",
    "\n",
    "### The 5 Core Dimensions\n",
    "\n",
    "Each prompt is defined by choices across five independent dimensions:"
   ]
  },
  {
   "cell_type": "code",
   "execution_count": 2,
   "metadata": {
    "execution": {
     "iopub.execute_input": "2025-10-09T04:53:28.188437Z",
     "iopub.status.busy": "2025-10-09T04:53:28.188165Z",
     "iopub.status.idle": "2025-10-09T04:53:28.192069Z",
     "shell.execute_reply": "2025-10-09T04:53:28.191684Z"
    }
   },
   "outputs": [
    {
     "name": "stdout",
     "output_type": "stream",
     "text": [
      "============================================================\n",
      "THE 5 CORE DIMENSIONS OF COMPOSITIONAL PROMPTING\n",
      "============================================================\n",
      "\n",
      "🔸 ω - Cognitive Operation (What thinking mode?):\n",
      "  1. decompose\n",
      "  2. analyze\n",
      "  3. generate\n",
      "  4. verify\n",
      "  5. synthesize\n",
      "  6. abstract\n",
      "\n",
      "🔸 φ - Focus Aspect (What to focus on?):\n",
      "  1. structure\n",
      "  2. constraints\n",
      "  3. patterns\n",
      "  4. solution\n",
      "  5. correctness\n",
      "  6. efficiency\n",
      "  7. examples\n",
      "  8. relationships\n",
      "  9. alternative_approaches\n",
      "  10. edge_cases\n",
      "\n",
      "🔸 σ - Reasoning Style (How to approach?):\n",
      "  1. systematic\n",
      "  2. creative\n",
      "  3. critical\n",
      "  4. formal\n",
      "  5. intuitive\n",
      "\n",
      "🔸 κ - Connection Type (How to connect steps?):\n",
      "  1. therefore\n",
      "  2. however\n",
      "  3. building_on\n",
      "  4. alternatively\n",
      "  5. verify\n",
      "  6. continue\n",
      "\n",
      "🔸 τ - Output Format (How to structure output?):\n",
      "  1. steps\n",
      "  2. list\n",
      "  3. mathematical\n",
      "  4. narrative\n",
      "  5. code\n",
      "  6. solution\n",
      "  7. explanation\n",
      "  8. table\n"
     ]
    }
   ],
   "source": [
    "# Let's explore each dimension\n",
    "\n",
    "def display_dimension(name: str, enum_class):\n",
    "    \"\"\"Display all values of a compositional dimension\"\"\"\n",
    "    print(f\"\\n🔸 {name}:\")\n",
    "    for i, member in enumerate(enum_class, 1):\n",
    "        print(f\"  {i}. {member.value}\")\n",
    "\n",
    "print(\"=\"*60)\n",
    "print(\"THE 5 CORE DIMENSIONS OF COMPOSITIONAL PROMPTING\")\n",
    "print(\"=\"*60)\n",
    "\n",
    "display_dimension(\"ω - Cognitive Operation (What thinking mode?)\", CognitiveOperation)\n",
    "display_dimension(\"φ - Focus Aspect (What to focus on?)\", FocusAspect)\n",
    "display_dimension(\"σ - Reasoning Style (How to approach?)\", ReasoningStyle)\n",
    "display_dimension(\"κ - Connection Type (How to connect steps?)\", ConnectionType)\n",
    "display_dimension(\"τ - Output Format (How to structure output?)\", OutputFormat)"
   ]
  },
  {
   "cell_type": "markdown",
   "metadata": {},
   "source": [
    "### Complexity Reduction Through Factorization\n",
    "\n",
    "By factoring prompts this way, we dramatically reduce the complexity:"
   ]
  },
  {
   "cell_type": "code",
   "execution_count": 3,
   "metadata": {
    "execution": {
     "iopub.execute_input": "2025-10-09T04:53:28.193391Z",
     "iopub.status.busy": "2025-10-09T04:53:28.193273Z",
     "iopub.status.idle": "2025-10-09T04:53:28.196937Z",
     "shell.execute_reply": "2025-10-09T04:53:28.196601Z"
    }
   },
   "outputs": [
    {
     "name": "stdout",
     "output_type": "stream",
     "text": [
      "Cognitive Operation :  6 options\n",
      "Focus Aspect        : 10 options\n",
      "Reasoning Style     :  5 options\n",
      "Connection Type     :  6 options\n",
      "Output Format       :  8 options\n",
      "\n",
      "========================================\n",
      "Total Combinations: 14,400\n",
      "Total Parameters:   35\n",
      "Complexity Reduction: 411.4x\n",
      "\n",
      "💡 We manage 35 parameters instead of 14,400 combinations!\n"
     ]
    }
   ],
   "source": [
    "# Calculate the complexity reduction\n",
    "dimensions = [\n",
    "    (\"Cognitive Operation\", len(CognitiveOperation)),\n",
    "    (\"Focus Aspect\", len(FocusAspect)),\n",
    "    (\"Reasoning Style\", len(ReasoningStyle)),\n",
    "    (\"Connection Type\", len(ConnectionType)),\n",
    "    (\"Output Format\", len(OutputFormat))\n",
    "]\n",
    "\n",
    "total_combinations = 1\n",
    "for name, size in dimensions:\n",
    "    print(f\"{name:20s}: {size:2d} options\")\n",
    "    total_combinations *= size\n",
    "\n",
    "total_parameters = sum(size for _, size in dimensions)\n",
    "\n",
    "print(\"\\n\" + \"=\"*40)\n",
    "print(f\"Total Combinations: {total_combinations:,}\")\n",
    "print(f\"Total Parameters:   {total_parameters}\")\n",
    "print(f\"Complexity Reduction: {total_combinations/total_parameters:.1f}x\")\n",
    "print(f\"\\n💡 We manage {total_parameters} parameters instead of {total_combinations:,} combinations!\")"
   ]
  },
  {
   "cell_type": "markdown",
   "metadata": {},
   "source": [
    "---\n",
    "\n",
    "## Part 2: Building Prompts with the Fluid API 🔧\n",
    "\n",
    "The `ComposingPrompt` class provides an elegant fluid API for prompt construction:"
   ]
  },
  {
   "cell_type": "code",
   "execution_count": 4,
   "metadata": {
    "execution": {
     "iopub.execute_input": "2025-10-09T04:53:28.198271Z",
     "iopub.status.busy": "2025-10-09T04:53:28.198153Z",
     "iopub.status.idle": "2025-10-09T04:53:28.200631Z",
     "shell.execute_reply": "2025-10-09T04:53:28.200326Z"
    }
   },
   "outputs": [
    {
     "name": "stdout",
     "output_type": "stream",
     "text": [
      "📝 Generated Prompt:\n",
      "============================================================\n",
      "Let me break this problem down systematically. I'll focus on the structural relationships and organization. I'll approach this systematically and methodically. Therefore, I'll present this as clear steps:\n",
      "============================================================\n"
     ]
    }
   ],
   "source": [
    "# Example 1: Basic prompt construction\n",
    "problem = \"Find the optimal route for a delivery truck visiting 5 locations\"\n",
    "\n",
    "prompt = (\n",
    "    ComposingPrompt(problem)\n",
    "    .cognitive_op(CognitiveOperation.DECOMPOSE)\n",
    "    .focus(FocusAspect.STRUCTURE)\n",
    "    .style(ReasoningStyle.SYSTEMATIC)\n",
    "    .connect(ConnectionType.THEREFORE)\n",
    "    .format(OutputFormat.STEPS)\n",
    "    .build()\n",
    ")\n",
    "\n",
    "print(\"📝 Generated Prompt:\")\n",
    "print(\"=\"*60)\n",
    "print(prompt)\n",
    "print(\"=\"*60)"
   ]
  },
  {
   "cell_type": "code",
   "execution_count": 5,
   "metadata": {
    "execution": {
     "iopub.execute_input": "2025-10-09T04:53:28.201956Z",
     "iopub.status.busy": "2025-10-09T04:53:28.201823Z",
     "iopub.status.idle": "2025-10-09T04:53:28.205280Z",
     "shell.execute_reply": "2025-10-09T04:53:28.204925Z"
    }
   },
   "outputs": [
    {
     "name": "stdout",
     "output_type": "stream",
     "text": [
      "\n",
      "🎯 Systematic Analysis:\n",
      "----------------------------------------\n",
      "Let me analyze this problem carefully. I'll focus on identifying key patterns. I'll approach this systematically and methodically. Therefore, I'll present this with mathematical notation:\n",
      "\n",
      "\n",
      "🎯 Creative Generation:\n",
      "----------------------------------------\n",
      "Let me generate a solution approach. I'll approach this with creative thinking. Alternatively, I'll present this as a clear narrative:\n",
      "\n",
      "\n",
      "🎯 Critical Verification:\n",
      "----------------------------------------\n",
      "Let me verify this reasoning step by step. I'll focus on ensuring correctness. I'll approach this with critical analysis. However, I'll present this as a structured list:\n",
      "\n"
     ]
    }
   ],
   "source": [
    "# Example 2: Different compositional choices for the same problem\n",
    "approaches = [\n",
    "    (\"Systematic Analysis\", \n",
    "     lambda p: p.cognitive_op(CognitiveOperation.ANALYZE)\n",
    "              .focus(FocusAspect.PATTERNS)\n",
    "              .style(ReasoningStyle.SYSTEMATIC)\n",
    "              .connect(ConnectionType.THEREFORE)\n",
    "              .format(OutputFormat.MATHEMATICAL)),\n",
    "    \n",
    "    (\"Creative Generation\",\n",
    "     lambda p: p.cognitive_op(CognitiveOperation.GENERATE)\n",
    "              .focus(FocusAspect.ALTERNATIVE_APPROACHES)\n",
    "              .style(ReasoningStyle.CREATIVE)\n",
    "              .connect(ConnectionType.ALTERNATIVELY)\n",
    "              .format(OutputFormat.NARRATIVE)),\n",
    "    \n",
    "    (\"Critical Verification\",\n",
    "     lambda p: p.cognitive_op(CognitiveOperation.VERIFY)\n",
    "              .focus(FocusAspect.CORRECTNESS)\n",
    "              .style(ReasoningStyle.CRITICAL)\n",
    "              .connect(ConnectionType.HOWEVER)\n",
    "              .format(OutputFormat.LIST)),\n",
    "]\n",
    "\n",
    "for name, builder in approaches:\n",
    "    prompt_obj = ComposingPrompt(problem)\n",
    "    prompt = builder(prompt_obj).build()\n",
    "    \n",
    "    print(f\"\\n🎯 {name}:\")\n",
    "    print(\"-\" * 40)\n",
    "    print(prompt[:200] + \"...\" if len(prompt) > 200 else prompt)\n",
    "    print()"
   ]
  },
  {
   "cell_type": "markdown",
   "metadata": {},
   "source": [
    "### Action Vectors: The Interface for External Systems\n",
    "\n",
    "Each prompt configuration can be represented as an **action vector** - a numerical representation that external systems (MCTS, RL agents) can use:"
   ]
  },
  {
   "cell_type": "code",
   "execution_count": 6,
   "metadata": {
    "execution": {
     "iopub.execute_input": "2025-10-09T04:53:28.206594Z",
     "iopub.status.busy": "2025-10-09T04:53:28.206439Z",
     "iopub.status.idle": "2025-10-09T04:53:28.210188Z",
     "shell.execute_reply": "2025-10-09T04:53:28.209764Z"
    }
   },
   "outputs": [
    {
     "name": "stdout",
     "output_type": "stream",
     "text": [
      "🔢 Action Vector Representation:\n",
      "==================================================\n",
      "Vector type: dict\n",
      "Vector contents:\n",
      "  omega: analyze\n",
      "  phi: constraints\n",
      "  sigma: formal\n",
      "  kappa: building_on\n",
      "  tau: solution\n",
      "  llm_augmentations: 0\n",
      "  coherence_checks: False\n",
      "  context_additions: 0\n",
      "  has_parallel_ops: False\n",
      "\n",
      "📊 Interpretation:\n",
      "  Cognitive Operation: analyze\n",
      "  Focus Aspect: constraints\n",
      "  Reasoning Style: formal\n",
      "  Connection Type: building_on\n",
      "  Output Format: solution\n"
     ]
    }
   ],
   "source": [
    "# Create a prompt and examine its action vector\n",
    "prompt = (\n",
    "    ComposingPrompt(problem)\n",
    "    .cognitive_op(CognitiveOperation.ANALYZE)\n",
    "    .focus(FocusAspect.CONSTRAINTS)\n",
    "    .style(ReasoningStyle.FORMAL)\n",
    "    .connect(ConnectionType.BUILDING_ON)\n",
    "    .format(OutputFormat.SOLUTION)\n",
    ")\n",
    "\n",
    "# Get the action vector (returns a dictionary)\n",
    "action_vector = prompt.get_action_vector()\n",
    "\n",
    "print(\"🔢 Action Vector Representation:\")\n",
    "print(\"=\"*50)\n",
    "print(f\"Vector type: {type(action_vector).__name__}\")\n",
    "print(f\"Vector contents:\")\n",
    "for key, value in action_vector.items():\n",
    "    print(f\"  {key}: {value}\")\n",
    "\n",
    "print(\"\\n📊 Interpretation:\")\n",
    "print(f\"  Cognitive Operation: {action_vector['omega']}\")\n",
    "print(f\"  Focus Aspect: {action_vector['phi']}\")\n",
    "print(f\"  Reasoning Style: {action_vector['sigma']}\")\n",
    "print(f\"  Connection Type: {action_vector['kappa']}\")\n",
    "print(f\"  Output Format: {action_vector['tau']}\")"
   ]
  },
  {
   "cell_type": "markdown",
   "metadata": {},
   "source": [
    "### Visualizing the Action Space"
   ]
  },
  {
   "cell_type": "code",
   "execution_count": 7,
   "metadata": {
    "execution": {
     "iopub.execute_input": "2025-10-09T04:53:28.211732Z",
     "iopub.status.busy": "2025-10-09T04:53:28.211588Z",
     "iopub.status.idle": "2025-10-09T04:53:28.461572Z",
     "shell.execute_reply": "2025-10-09T04:53:28.461090Z"
    }
   },
   "outputs": [
    {
     "data": {
      "image/png": "[encoded data removed]",
      "text/plain": [
       "<Figure size 1200x800 with 3 Axes>"
      ]
     },
     "metadata": {},
     "output_type": "display_data"
    }
   ],
   "source": [
    "# Visualize action vectors for different prompts\n",
    "import matplotlib.pyplot as plt\n",
    "\n",
    "fig, axes = plt.subplots(3, 1, figsize=(12, 8))\n",
    "\n",
    "prompts_to_viz = [\n",
    "    (\"Decompose + Systematic\", \n",
    "     ComposingPrompt(problem)\n",
    "     .cognitive_op(CognitiveOperation.DECOMPOSE)\n",
    "     .focus(FocusAspect.STRUCTURE)\n",
    "     .style(ReasoningStyle.SYSTEMATIC)),\n",
    "    (\"Analyze + Formal\",\n",
    "     ComposingPrompt(problem)\n",
    "     .cognitive_op(CognitiveOperation.ANALYZE)\n",
    "     .focus(FocusAspect.CONSTRAINTS)\n",
    "     .style(ReasoningStyle.FORMAL)),\n",
    "    (\"Generate + Creative\",\n",
    "     ComposingPrompt(problem)\n",
    "     .cognitive_op(CognitiveOperation.GENERATE)\n",
    "     .focus(FocusAspect.ALTERNATIVE_APPROACHES)\n",
    "     .style(ReasoningStyle.CREATIVE)),\n",
    "]\n",
    "\n",
    "for idx, (name, prompt_obj) in enumerate(prompts_to_viz):\n",
    "    vector = prompt_obj.get_action_vector()\n",
    "    \n",
    "    # Create bar chart from dictionary values\n",
    "    keys = ['omega', 'phi', 'sigma', 'kappa', 'tau']\n",
    "    values = [1 if vector[k] else 0 for k in keys]\n",
    "    labels = [vector[k] if vector[k] else 'None' for k in keys]\n",
    "    \n",
    "    axes[idx].bar(keys, values, color='steelblue')\n",
    "    axes[idx].set_title(f\"{name} - Action Configuration\")\n",
    "    axes[idx].set_ylim([0, 1.2])\n",
    "    axes[idx].set_ylabel(\"Set\")\n",
    "    axes[idx].grid(True, alpha=0.3)\n",
    "    \n",
    "    # Add labels for actual values\n",
    "    for i, (k, v, l) in enumerate(zip(keys, values, labels)):\n",
    "        if v > 0:\n",
    "            axes[idx].text(i, 0.5, l, ha='center', va='center', rotation=45, fontsize=8)\n",
    "\n",
    "plt.tight_layout()\n",
    "plt.show()"
   ]
  },
  {
   "cell_type": "markdown",
   "metadata": {},
   "source": [
    "---\n",
    "\n",
    "## Part 3: Advanced Composition Methods 🚀\n",
    "\n",
    "Beyond simple prompt construction, the library supports sophisticated composition patterns:"
   ]
  },
  {
   "cell_type": "markdown",
   "metadata": {},
   "source": [
    "### 3.1 Sequential Chaining\n",
    "\n",
    "Chain multiple prompts together for step-by-step reasoning:"
   ]
  },
  {
   "cell_type": "code",
   "execution_count": 8,
   "metadata": {
    "execution": {
     "iopub.execute_input": "2025-10-09T04:53:28.463123Z",
     "iopub.status.busy": "2025-10-09T04:53:28.462973Z",
     "iopub.status.idle": "2025-10-09T04:53:28.468298Z",
     "shell.execute_reply": "2025-10-09T04:53:28.467875Z"
    }
   },
   "outputs": [
    {
     "name": "stdout",
     "output_type": "stream",
     "text": [
      "🔗 Chained Prompt:\n",
      "============================================================\n",
      "Let me break this problem down systematically. I'll focus on the structural relationships and organization. I'll approach this systematically and methodically. Therefore, I'll present this as clear steps:\n",
      "\n",
      "Let me analyze this problem carefully. I'll focus on the constraints and limitations. I'll approach this with critical analysis. Building on the previous analysis, I'll present this as a structured list:...\n",
      "\n",
      "📊 Chain Analysis:\n",
      "Number of steps in chain: 2\n",
      "Action vectors for each step:\n",
      "  Step 1: decompose\n",
      "  Step 2: analyze\n"
     ]
    }
   ],
   "source": [
    "# Sequential reasoning chain\n",
    "problem = \"Design a distributed caching system for a social media platform\"\n",
    "\n",
    "# Step 1: Decompose the problem\n",
    "step1 = (\n",
    "    ComposingPrompt(problem)\n",
    "    .cognitive_op(CognitiveOperation.DECOMPOSE)\n",
    "    .focus(FocusAspect.STRUCTURE)\n",
    "    .style(ReasoningStyle.SYSTEMATIC)\n",
    "    .connect(ConnectionType.THEREFORE)\n",
    "    .format(OutputFormat.STEPS)\n",
    ")\n",
    "\n",
    "# Step 2: Analyze constraints\n",
    "step2 = (\n",
    "    ComposingPrompt(problem)\n",
    "    .cognitive_op(CognitiveOperation.ANALYZE)\n",
    "    .focus(FocusAspect.CONSTRAINTS)\n",
    "    .style(ReasoningStyle.CRITICAL)\n",
    "    .connect(ConnectionType.BUILDING_ON)\n",
    "    .format(OutputFormat.LIST)\n",
    ")\n",
    "\n",
    "# Chain them together (returns a list of prompts)\n",
    "chained = step1.chain(step2)\n",
    "\n",
    "print(\"🔗 Chained Prompt:\")\n",
    "print(\"=\"*60)\n",
    "# Build each prompt in the chain and concatenate\n",
    "chained_prompt = \"\\n\\n\".join(p.build() for p in chained)\n",
    "print(chained_prompt[:500] + \"...\")\n",
    "print(\"\\n📊 Chain Analysis:\")\n",
    "print(f\"Number of steps in chain: {len(chained)}\")\n",
    "print(f\"Action vectors for each step:\")\n",
    "for i, prompt in enumerate(chained, 1):\n",
    "    vector = prompt.get_action_vector()\n",
    "    print(f\"  Step {i}: {vector['omega']}\")"
   ]
  },
  {
   "cell_type": "markdown",
   "metadata": {},
   "source": [
    "### 3.2 Parallel Forking\n",
    "\n",
    "Explore multiple reasoning paths in parallel:"
   ]
  },
  {
   "cell_type": "code",
   "execution_count": 9,
   "metadata": {
    "execution": {
     "iopub.execute_input": "2025-10-09T04:53:28.469753Z",
     "iopub.status.busy": "2025-10-09T04:53:28.469593Z",
     "iopub.status.idle": "2025-10-09T04:53:28.473467Z",
     "shell.execute_reply": "2025-10-09T04:53:28.473135Z"
    }
   },
   "outputs": [
    {
     "name": "stdout",
     "output_type": "stream",
     "text": [
      "🔀 Forked Exploration:\n",
      "============================================================\n",
      "\n",
      "Branch 1:\n",
      "----------------------------------------\n",
      "Operation: decompose\n",
      "Focus: structure\n",
      "Prompt: Let me break this problem down systematically. I'll focus on the structural relationships and organization.\n",
      "\n",
      "Branch 2:\n",
      "----------------------------------------\n",
      "Operation: analyze\n",
      "Focus: patterns\n",
      "Prompt: Let me analyze this problem carefully. I'll focus on identifying key patterns.\n",
      "\n",
      "Branch 3:\n",
      "----------------------------------------\n",
      "Operation: generate\n",
      "Focus: alternative_approaches\n",
      "Prompt: Let me generate a solution approach.\n"
     ]
    }
   ],
   "source": [
    "# Fork into multiple parallel explorations\n",
    "base_prompt = ComposingPrompt(\"Optimize a recommendation algorithm\")\n",
    "\n",
    "# Define different exploration branches - each is a different configuration\n",
    "branches = [\n",
    "    ComposingPrompt(\"Optimize a recommendation algorithm\")\n",
    "    .cognitive_op(CognitiveOperation.DECOMPOSE)\n",
    "    .focus(FocusAspect.STRUCTURE),\n",
    "    \n",
    "    ComposingPrompt(\"Optimize a recommendation algorithm\")\n",
    "    .cognitive_op(CognitiveOperation.ANALYZE)\n",
    "    .focus(FocusAspect.PATTERNS),\n",
    "    \n",
    "    ComposingPrompt(\"Optimize a recommendation algorithm\")\n",
    "    .cognitive_op(CognitiveOperation.GENERATE)\n",
    "    .focus(FocusAspect.ALTERNATIVE_APPROACHES),\n",
    "]\n",
    "\n",
    "print(\"🔀 Forked Exploration:\")\n",
    "print(\"=\"*60)\n",
    "\n",
    "# Use the branches directly (they are already different prompts)\n",
    "for i, fork_prompt in enumerate(branches, 1):\n",
    "    print(f\"\\nBranch {i}:\")\n",
    "    print(\"-\" * 40)\n",
    "    # Show what cognitive operation this branch is using\n",
    "    print(f\"Operation: {fork_prompt._cognitive_op.value if fork_prompt._cognitive_op else 'None'}\")\n",
    "    print(f\"Focus: {fork_prompt._focus.value if fork_prompt._focus else 'None'}\")\n",
    "    prompt_text = fork_prompt.build()\n",
    "    print(f\"Prompt: {prompt_text[:150] + '...' if len(prompt_text) > 150 else prompt_text}\")"
   ]
  },
  {
   "cell_type": "markdown",
   "metadata": {},
   "source": [
    "### 3.3 Algebraic Composition\n",
    "\n",
    "Compose prompts using weighted combinations:"
   ]
  },
  {
   "cell_type": "code",
   "execution_count": 10,
   "metadata": {
    "execution": {
     "iopub.execute_input": "2025-10-09T04:53:28.474750Z",
     "iopub.status.busy": "2025-10-09T04:53:28.474632Z",
     "iopub.status.idle": "2025-10-09T04:53:28.478122Z",
     "shell.execute_reply": "2025-10-09T04:53:28.477768Z"
    }
   },
   "outputs": [
    {
     "name": "stdout",
     "output_type": "stream",
     "text": [
      "🎨 Composed Prompt (Creative Overlay):\n",
      "============================================================\n",
      "Let me generate a solution approach. I'll approach this with creative thinking....\n",
      "\n",
      "🎨 Composed Prompt (Analytical Underlay):\n",
      "============================================================\n",
      "Let me generate a solution approach. I'll approach this with creative thinking....\n",
      "\n",
      "📊 Composition Analysis:\n",
      "'overlay': Creative approach overrides analytical settings\n",
      "'underlay': Analytical settings preserved, creative fills any gaps\n"
     ]
    }
   ],
   "source": [
    "# Create two different reasoning approaches\n",
    "analytical = (\n",
    "    ComposingPrompt(\"Solve the traveling salesman problem\")\n",
    "    .cognitive_op(CognitiveOperation.ANALYZE)\n",
    "    .focus(FocusAspect.CONSTRAINTS)\n",
    "    .style(ReasoningStyle.FORMAL)\n",
    ")\n",
    "\n",
    "creative = (\n",
    "    ComposingPrompt(\"Solve the traveling salesman problem\")\n",
    "    .cognitive_op(CognitiveOperation.GENERATE)\n",
    "    .focus(FocusAspect.ALTERNATIVE_APPROACHES)\n",
    "    .style(ReasoningStyle.CREATIVE)\n",
    ")\n",
    "\n",
    "# Compose them with overlay strategy (creative overlays analytical)\n",
    "composed = analytical.compose_with(creative, merge_strategy='overlay')\n",
    "\n",
    "print(\"🎨 Composed Prompt (Creative Overlay):\")\n",
    "print(\"=\"*60)\n",
    "print(composed.build()[:400] + \"...\")\n",
    "\n",
    "# Try underlay strategy (analytical preserved, creative fills gaps)\n",
    "composed_underlay = analytical.compose_with(creative, merge_strategy='underlay')\n",
    "\n",
    "print(\"\\n🎨 Composed Prompt (Analytical Underlay):\")\n",
    "print(\"=\"*60)\n",
    "print(composed_underlay.build()[:400] + \"...\")\n",
    "\n",
    "print(\"\\n📊 Composition Analysis:\")\n",
    "print(\"'overlay': Creative approach overrides analytical settings\")\n",
    "print(\"'underlay': Analytical settings preserved, creative fills any gaps\")"
   ]
  },
  {
   "cell_type": "markdown",
   "metadata": {},
   "source": [
    "---\n",
    "\n",
    "## Part 4: Weighted Sampling for Biased Exploration 🎲\n",
    "\n",
    "External systems (MCTS, RL agents) can use weighted sampling to explore the action space intelligently:"
   ]
  },
  {
   "cell_type": "code",
   "execution_count": 11,
   "metadata": {
    "execution": {
     "iopub.execute_input": "2025-10-09T04:53:28.479418Z",
     "iopub.status.busy": "2025-10-09T04:53:28.479297Z",
     "iopub.status.idle": "2025-10-09T04:53:28.485304Z",
     "shell.execute_reply": "2025-10-09T04:53:28.484872Z"
    }
   },
   "outputs": [
    {
     "name": "stdout",
     "output_type": "stream",
     "text": [
      "🎲 Weighted Sampling Results:\n",
      "============================================================\n",
      "Sampling with bias towards analytical/systematic approaches:\n",
      "\n",
      "Sampled Cognitive Operations:\n",
      "  decompose: 3/5\n",
      "  analyze: 2/5\n",
      "\n",
      "💡 Notice how DECOMPOSE and ANALYZE appear more frequently due to our weights!\n"
     ]
    }
   ],
   "source": [
    "# Simulate learned weights from an RL agent or MCTS\n",
    "# These weights represent the agent's belief about which actions are promising\n",
    "\n",
    "def create_biased_weights():\n",
    "    \"\"\"Create example weights that favor analytical and systematic approaches\"\"\"\n",
    "    weights = {}\n",
    "    \n",
    "    # Favor ANALYZE and DECOMPOSE operations\n",
    "    cog_ops = list(CognitiveOperation)\n",
    "    weights['cognitive_op'] = {\n",
    "        cog_ops[0]: 0.3,  # decompose\n",
    "        cog_ops[1]: 0.4,  # analyze\n",
    "        cog_ops[2]: 0.1,  # generate\n",
    "        cog_ops[3]: 0.1,  # verify\n",
    "        cog_ops[4]: 0.05, # synthesize\n",
    "        cog_ops[5]: 0.05  # abstract\n",
    "    }\n",
    "    \n",
    "    # Favor STRUCTURE and CONSTRAINTS\n",
    "    focus_aspects = list(FocusAspect)\n",
    "    weights['focus'] = {\n",
    "        focus_aspects[0]: 0.3,  # structure\n",
    "        focus_aspects[1]: 0.3,  # constraints\n",
    "        focus_aspects[2]: 0.1,  # patterns\n",
    "        focus_aspects[3]: 0.1,  # solution\n",
    "        focus_aspects[4]: 0.05, # correctness\n",
    "        focus_aspects[5]: 0.05, # efficiency\n",
    "        focus_aspects[6]: 0.02, # examples\n",
    "        focus_aspects[7]: 0.02, # relationships\n",
    "        focus_aspects[8]: 0.03, # alternative_approaches\n",
    "        focus_aspects[9]: 0.03  # edge_cases\n",
    "    }\n",
    "    \n",
    "    # Strongly favor SYSTEMATIC and FORMAL\n",
    "    styles = list(ReasoningStyle)\n",
    "    weights['style'] = {\n",
    "        styles[0]: 0.4,  # systematic\n",
    "        styles[1]: 0.1,  # creative\n",
    "        styles[2]: 0.1,  # critical\n",
    "        styles[3]: 0.3,  # formal\n",
    "        styles[4]: 0.1   # intuitive\n",
    "    }\n",
    "    \n",
    "    # Favor THEREFORE connections\n",
    "    connections = list(ConnectionType)\n",
    "    weights['connection'] = {\n",
    "        connections[0]: 0.5,  # therefore\n",
    "        connections[1]: 0.15, # however\n",
    "        connections[2]: 0.15, # building_on\n",
    "        connections[3]: 0.1,  # alternatively\n",
    "        connections[4]: 0.05, # verify\n",
    "        connections[5]: 0.05  # continue\n",
    "    }\n",
    "    \n",
    "    # Favor STEPS and MATHEMATICAL outputs\n",
    "    outputs = list(OutputFormat)\n",
    "    weights['output'] = {\n",
    "        outputs[0]: 0.3,  # steps\n",
    "        outputs[1]: 0.15, # list\n",
    "        outputs[2]: 0.25, # mathematical\n",
    "        outputs[3]: 0.1,  # narrative\n",
    "        outputs[4]: 0.05, # code\n",
    "        outputs[5]: 0.05, # solution\n",
    "        outputs[6]: 0.05, # explanation\n",
    "        outputs[7]: 0.05  # table\n",
    "    }\n",
    "    \n",
    "    return weights\n",
    "\n",
    "weights = create_biased_weights()\n",
    "\n",
    "# Sample multiple actions using these weights\n",
    "problem = \"Optimize database query performance\"\n",
    "sampled_prompts = []\n",
    "for _ in range(5):\n",
    "    # Sample an action and set the problem context\n",
    "    prompt = ComposingPrompt.sample_action(weights=weights)\n",
    "    prompt = prompt.problem_context(problem)\n",
    "    sampled_prompts.append(prompt)\n",
    "\n",
    "print(\"🎲 Weighted Sampling Results:\")\n",
    "print(\"=\"*60)\n",
    "print(\"Sampling with bias towards analytical/systematic approaches:\\n\")\n",
    "\n",
    "# Analyze the sampled actions\n",
    "cognitive_ops = [p._cognitive_op for p in sampled_prompts if p._cognitive_op]\n",
    "op_counts = Counter([op.value for op in cognitive_ops])\n",
    "\n",
    "print(\"Sampled Cognitive Operations:\")\n",
    "for op, count in op_counts.most_common():\n",
    "    print(f\"  {op}: {count}/5\")\n",
    "\n",
    "print(\"\\n💡 Notice how DECOMPOSE and ANALYZE appear more frequently due to our weights!\")"
   ]
  },
  {
   "cell_type": "code",
   "execution_count": 12,
   "metadata": {
    "execution": {
     "iopub.execute_input": "2025-10-09T04:53:28.486790Z",
     "iopub.status.busy": "2025-10-09T04:53:28.486656Z",
     "iopub.status.idle": "2025-10-09T04:53:28.680758Z",
     "shell.execute_reply": "2025-10-09T04:53:28.680375Z"
    }
   },
   "outputs": [
    {
     "data": {
      "image/png": "[encoded data removed]",
      "text/plain": [
       "<Figure size 1400x500 with 2 Axes>"
      ]
     },
     "metadata": {},
     "output_type": "display_data"
    },
    {
     "name": "stdout",
     "output_type": "stream",
     "text": [
      "📊 The sampling distribution closely matches our specified weights!\n"
     ]
    }
   ],
   "source": [
    "# Visualize sampling distribution\n",
    "fig, axes = plt.subplots(1, 2, figsize=(14, 5))\n",
    "\n",
    "# Plot weight distribution for cognitive operations\n",
    "cog_ops = list(CognitiveOperation)\n",
    "cog_op_weights = [weights['cognitive_op'].get(op, 0) for op in cog_ops]\n",
    "cog_op_labels = [op.value for op in cog_ops]\n",
    "\n",
    "axes[0].bar(range(len(cog_ops)), cog_op_weights, color='coral')\n",
    "axes[0].set_xticks(range(len(cog_ops)))\n",
    "axes[0].set_xticklabels(cog_op_labels, rotation=45, ha='right')\n",
    "axes[0].set_title(\"Learned Weights for Cognitive Operations\")\n",
    "axes[0].set_ylabel(\"Weight\")\n",
    "axes[0].grid(True, alpha=0.3)\n",
    "\n",
    "# Sample many times and plot distribution\n",
    "samples = []\n",
    "for _ in range(1000):\n",
    "    p = ComposingPrompt.sample_action(weights=weights)\n",
    "    if p._cognitive_op:\n",
    "        samples.append(p._cognitive_op.value)\n",
    "\n",
    "sample_counts = Counter(samples)\n",
    "sample_probs = [sample_counts.get(op.value, 0)/len(samples) if samples else 0 for op in cog_ops]\n",
    "\n",
    "axes[1].bar(range(len(cog_ops)), sample_probs, color='steelblue')\n",
    "axes[1].set_xticks(range(len(cog_ops)))\n",
    "axes[1].set_xticklabels(cog_op_labels, rotation=45, ha='right')\n",
    "axes[1].set_title(\"Empirical Sampling Distribution (1000 samples)\")\n",
    "axes[1].set_ylabel(\"Frequency\")\n",
    "axes[1].grid(True, alpha=0.3)\n",
    "\n",
    "plt.tight_layout()\n",
    "plt.show()\n",
    "\n",
    "print(\"📊 The sampling distribution closely matches our specified weights!\")"
   ]
  },
  {
   "cell_type": "markdown",
   "metadata": {},
   "source": [
    "---\n",
    "\n",
    "## Part 5: LLM Integration and Augmentation 🤖\n",
    "\n",
    "The library supports multiple LLM providers and augmentation methods:"
   ]
  },
  {
   "cell_type": "code",
   "execution_count": 13,
   "metadata": {
    "execution": {
     "iopub.execute_input": "2025-10-09T04:53:28.682131Z",
     "iopub.status.busy": "2025-10-09T04:53:28.682003Z",
     "iopub.status.idle": "2025-10-09T04:53:28.685604Z",
     "shell.execute_reply": "2025-10-09T04:53:28.685224Z"
    }
   },
   "outputs": [
    {
     "name": "stdout",
     "output_type": "stream",
     "text": [
      "🤖 LLM-Augmented Prompt:\n",
      "============================================================\n",
      "Let me break this problem down systematically. I'll focus on the structural relationships and organization. I'll approach this systematically and methodically.\n",
      "\n",
      "[LLM Augmentations to apply: Add specific technical considerations (via MockLLM)]...\n",
      "\n",
      "📚 With Generated Examples:\n",
      "============================================================\n",
      "Let me break this problem down systematically. I'll focus on the structural relationships and organization. I'll approach this systematically and methodically.\n",
      "\n",
      "[LLM Augmentations to apply: Add specific technical considerations (via MockLLM), Generate 3 relevant examples (via MockLLM)]...\n"
     ]
    }
   ],
   "source": [
    "# Demonstrate LLM augmentation with mock provider\n",
    "problem = \"Design a fault-tolerant distributed key-value store\"\n",
    "\n",
    "prompt = (\n",
    "    ComposingPrompt(problem)\n",
    "    .cognitive_op(CognitiveOperation.DECOMPOSE)\n",
    "    .focus(FocusAspect.STRUCTURE)\n",
    "    .style(ReasoningStyle.SYSTEMATIC)\n",
    ")\n",
    "\n",
    "# Augment with LLM reasoning\n",
    "augmented = prompt.llm_augment(\n",
    "    provider=mock_provider,\n",
    "    instruction=\"Add specific technical considerations\"\n",
    ")\n",
    "\n",
    "print(\"🤖 LLM-Augmented Prompt:\")\n",
    "print(\"=\"*60)\n",
    "print(augmented.build()[:400] + \"...\")\n",
    "\n",
    "# Add examples (n parameter, not n_examples)\n",
    "with_examples = prompt.llm_add_examples(\n",
    "    provider=mock_provider,\n",
    "    n=3  # Changed from n_examples to n\n",
    ")\n",
    "\n",
    "print(\"\\n📚 With Generated Examples:\")\n",
    "print(\"=\"*60)\n",
    "print(with_examples.build()[:400] + \"...\")"
   ]
  },
  {
   "cell_type": "code",
   "execution_count": 14,
   "metadata": {
    "execution": {
     "iopub.execute_input": "2025-10-09T04:53:28.686896Z",
     "iopub.status.busy": "2025-10-09T04:53:28.686774Z",
     "iopub.status.idle": "2025-10-09T04:53:28.690124Z",
     "shell.execute_reply": "2025-10-09T04:53:28.689795Z"
    }
   },
   "outputs": [
    {
     "name": "stdout",
     "output_type": "stream",
     "text": [
      "🔍 Prompt Quality Assessment:\n",
      "============================================================\n",
      "Analytical Approach:\n",
      "  Coherent: ComposingPrompt(_llm_provider='Sort a list of integers', _cognitive_op=<CognitiveOperation.ANALYZE: 'analyze'>, _focus=<FocusAspect.PATTERNS: 'patterns'>, _style=<ReasoningStyle.SYSTEMATIC: 'systematic'>, _connection=None, _output_format=None, _meta_strategy=None, _confidence=None, _depth=None, _llm_augmentations=[], _examples=[], _coherence_checks=True, _coherence_provider=<compositional_prompting.MockLLMProvider object at 0x78a88474eae0>, _context_additions=[], _base_prompt='', _problem_context='')\n",
      "  Quality Score: 0.50/10\n",
      "\n",
      "Creative Approach:\n",
      "  Coherent: ComposingPrompt(_llm_provider='Sort a list of integers', _cognitive_op=<CognitiveOperation.GENERATE: 'generate'>, _focus=<FocusAspect.ALTERNATIVE_APPROACHES: 'alternative_approaches'>, _style=<ReasoningStyle.CREATIVE: 'creative'>, _connection=None, _output_format=None, _meta_strategy=None, _confidence=None, _depth=None, _llm_augmentations=[], _examples=[], _coherence_checks=True, _coherence_provider=<compositional_prompting.MockLLMProvider object at 0x78a88474eae0>, _context_additions=[], _base_prompt='', _problem_context='')\n",
      "  Quality Score: 0.50/10\n"
     ]
    }
   ],
   "source": [
    "# Demonstrate coherence checking and evaluation\n",
    "prompt1 = (\n",
    "    ComposingPrompt(\"Sort a list of integers\")\n",
    "    .cognitive_op(CognitiveOperation.ANALYZE)\n",
    "    .focus(FocusAspect.PATTERNS)\n",
    "    .style(ReasoningStyle.SYSTEMATIC)\n",
    ")\n",
    "\n",
    "prompt2 = (\n",
    "    ComposingPrompt(\"Sort a list of integers\")\n",
    "    .cognitive_op(CognitiveOperation.GENERATE)\n",
    "    .focus(FocusAspect.ALTERNATIVE_APPROACHES)\n",
    "    .style(ReasoningStyle.CREATIVE)\n",
    ")\n",
    "\n",
    "# Check coherence\n",
    "is_coherent1 = prompt1.llm_coherence_check(mock_provider)\n",
    "is_coherent2 = prompt2.llm_coherence_check(mock_provider)\n",
    "\n",
    "# Evaluate quality\n",
    "score1 = prompt1.llm_evaluate(mock_provider)\n",
    "score2 = prompt2.llm_evaluate(mock_provider)\n",
    "\n",
    "print(\"🔍 Prompt Quality Assessment:\")\n",
    "print(\"=\"*60)\n",
    "print(f\"Analytical Approach:\")\n",
    "print(f\"  Coherent: {is_coherent1}\")\n",
    "print(f\"  Quality Score: {score1:.2f}/10\\n\")\n",
    "\n",
    "print(f\"Creative Approach:\")\n",
    "print(f\"  Coherent: {is_coherent2}\")\n",
    "print(f\"  Quality Score: {score2:.2f}/10\")"
   ]
  },
  {
   "cell_type": "markdown",
   "metadata": {},
   "source": [
    "### Smart Termination Detection"
   ]
  },
  {
   "cell_type": "code",
   "execution_count": 15,
   "metadata": {
    "execution": {
     "iopub.execute_input": "2025-10-09T04:53:28.691481Z",
     "iopub.status.busy": "2025-10-09T04:53:28.691369Z",
     "iopub.status.idle": "2025-10-09T04:53:28.696827Z",
     "shell.execute_reply": "2025-10-09T04:53:28.696278Z"
    }
   },
   "outputs": [
    {
     "name": "stdout",
     "output_type": "stream",
     "text": [
      "🔄 Iterative Reasoning with Termination Detection:\n",
      "============================================================\n",
      "Step 1: decompose\n",
      "  State: Let me decompose this problem into subproblems......\n",
      "  Should terminate? False\n",
      "Step 2: analyze\n",
      "  State: Analyzing the constraints shows that......\n",
      "  Should terminate? False\n",
      "Step 3: generate\n",
      "  State: Therefore, the answer is: use dynamic programming...\n",
      "  Should terminate? False\n",
      "Step 4: verify\n",
      "  State: Verification confirms the solution is correct...\n",
      "  Should terminate? False\n",
      "\n",
      "⚠️ Maximum steps reached without termination\n"
     ]
    }
   ],
   "source": [
    "# Demonstrate termination detection for iterative reasoning\n",
    "problem = \"Find the optimal solution to the knapsack problem\"\n",
    "\n",
    "# Simulate an iterative reasoning process\n",
    "prompts = [\n",
    "    ComposingPrompt(problem).cognitive_op(CognitiveOperation.DECOMPOSE).focus(FocusAspect.STRUCTURE),\n",
    "    ComposingPrompt(problem).cognitive_op(CognitiveOperation.ANALYZE).focus(FocusAspect.CONSTRAINTS),\n",
    "    ComposingPrompt(problem).cognitive_op(CognitiveOperation.GENERATE).focus(FocusAspect.SOLUTION),\n",
    "    ComposingPrompt(problem).cognitive_op(CognitiveOperation.VERIFY).focus(FocusAspect.CORRECTNESS),\n",
    "]\n",
    "\n",
    "print(\"🔄 Iterative Reasoning with Termination Detection:\")\n",
    "print(\"=\"*60)\n",
    "\n",
    "# Simulate reasoning states for each step\n",
    "reasoning_states = [\n",
    "    \"Let me decompose this problem into subproblems...\",\n",
    "    \"Analyzing the constraints shows that...\",\n",
    "    \"Therefore, the answer is: use dynamic programming\",\n",
    "    \"Verification confirms the solution is correct\"\n",
    "]\n",
    "\n",
    "for i, (prompt, state) in enumerate(zip(prompts, reasoning_states), 1):\n",
    "    # Pass the current reasoning state to check for termination\n",
    "    should_terminate = prompt.llm_termination(state, provider=mock_provider)\n",
    "    print(f\"Step {i}: {prompt._cognitive_op.value if prompt._cognitive_op else 'Unknown'}\")\n",
    "    print(f\"  State: {state[:50]}...\")\n",
    "    print(f\"  Should terminate? {should_terminate}\")\n",
    "    \n",
    "    if should_terminate:\n",
    "        print(\"\\n✅ Reasoning complete!\")\n",
    "        break\n",
    "else:\n",
    "    print(\"\\n⚠️ Maximum steps reached without termination\")"
   ]
  },
  {
   "cell_type": "markdown",
   "metadata": {},
   "source": [
    "---\n",
    "\n",
    "## Part 6: Integration Patterns for External Systems 🔌\n",
    "\n",
    "Let's explore how different systems can leverage the compositional action space:"
   ]
  },
  {
   "cell_type": "markdown",
   "metadata": {},
   "source": [
    "### 6.1 MCTS Integration Pattern"
   ]
  },
  {
   "cell_type": "code",
   "execution_count": 16,
   "metadata": {
    "execution": {
     "iopub.execute_input": "2025-10-09T04:53:28.698263Z",
     "iopub.status.busy": "2025-10-09T04:53:28.698130Z",
     "iopub.status.idle": "2025-10-09T04:53:28.708579Z",
     "shell.execute_reply": "2025-10-09T04:53:28.708042Z"
    }
   },
   "outputs": [
    {
     "name": "stdout",
     "output_type": "stream",
     "text": [
      "🌳 MCTS Tree Exploration:\n",
      "============================================================\n",
      "Root: decompose\n",
      "\n",
      "Expanded 3 child nodes:\n",
      "  Child 1: abstract\n",
      "  Child 2: abstract\n",
      "  Child 3: verify\n",
      "\n",
      "🎯 Best child selected: verify\n",
      "   Visits: 3, Value: 2.84\n"
     ]
    }
   ],
   "source": [
    "class SimpleMCTSNode:\n",
    "    \"\"\"Simplified MCTS node for demonstration\"\"\"\n",
    "    def __init__(self, prompt: ComposingPrompt, parent=None):\n",
    "        self.prompt = prompt\n",
    "        self.parent = parent\n",
    "        self.children = []\n",
    "        self.visits = 0\n",
    "        self.value = 0.0\n",
    "        self.action_vector = prompt.get_action_vector()  # This is a dict\n",
    "    \n",
    "    def expand(self, problem: str, weights: dict = None):  # Changed Dict to dict\n",
    "        \"\"\"Expand node by sampling new actions\"\"\"\n",
    "        for _ in range(3):  # Create 3 child nodes\n",
    "            child_prompt = ComposingPrompt.sample_action(weights=weights)\n",
    "            child_prompt = child_prompt.problem_context(problem)\n",
    "            child_node = SimpleMCTSNode(child_prompt, self)\n",
    "            self.children.append(child_node)\n",
    "        return self.children\n",
    "    \n",
    "    def best_child(self, c_param: float = 1.4):\n",
    "        \"\"\"Select best child using UCB1\"\"\"\n",
    "        import math\n",
    "        choices_weights = [\n",
    "            (child.value / child.visits) + c_param * math.sqrt((2 * math.log(self.visits) / child.visits))\n",
    "            if child.visits > 0 else float('inf')\n",
    "            for child in self.children\n",
    "        ]\n",
    "        return self.children[np.argmax(choices_weights)]\n",
    "\n",
    "# Simulate MCTS exploration\n",
    "problem = \"Implement a load balancing algorithm\"\n",
    "root_prompt = ComposingPrompt(problem).cognitive_op(CognitiveOperation.DECOMPOSE).focus(FocusAspect.STRUCTURE)\n",
    "root = SimpleMCTSNode(root_prompt)\n",
    "\n",
    "# Expansion phase\n",
    "print(\"🌳 MCTS Tree Exploration:\")\n",
    "print(\"=\"*60)\n",
    "print(f\"Root: {root.prompt._cognitive_op.value if root.prompt._cognitive_op else 'Initial'}\")\n",
    "\n",
    "# Expand root\n",
    "children = root.expand(problem)\n",
    "print(f\"\\nExpanded {len(children)} child nodes:\")\n",
    "for i, child in enumerate(children, 1):\n",
    "    if child.prompt._cognitive_op:\n",
    "        print(f\"  Child {i}: {child.prompt._cognitive_op.value}\")\n",
    "\n",
    "# Simulate some visits and values\n",
    "for child in children:\n",
    "    child.visits = np.random.randint(1, 10)\n",
    "    child.value = np.random.random() * child.visits\n",
    "\n",
    "root.visits = sum(c.visits for c in children) + 1\n",
    "\n",
    "# Select best child\n",
    "best = root.best_child()\n",
    "print(f\"\\n🎯 Best child selected: {best.prompt._cognitive_op.value if best.prompt._cognitive_op else 'Unknown'}\")\n",
    "print(f\"   Visits: {best.visits}, Value: {best.value:.2f}\")"
   ]
  },
  {
   "cell_type": "markdown",
   "metadata": {},
   "source": [
    "### 6.2 Reinforcement Learning Integration"
   ]
  },
  {
   "cell_type": "code",
   "execution_count": 17,
   "metadata": {
    "execution": {
     "iopub.execute_input": "2025-10-09T04:53:28.710215Z",
     "iopub.status.busy": "2025-10-09T04:53:28.710030Z",
     "iopub.status.idle": "2025-10-09T04:53:28.719100Z",
     "shell.execute_reply": "2025-10-09T04:53:28.718623Z"
    }
   },
   "outputs": [
    {
     "name": "stdout",
     "output_type": "stream",
     "text": [
      "🤖 RL Agent Learning:\n",
      "============================================================\n",
      "Episode 1:\n",
      "  Action: generate\n",
      "  Reward: 0.103\n",
      "Episode 2:\n",
      "  Action: generate\n",
      "  Reward: 0.770\n",
      "Episode 3:\n",
      "  Action: generate\n",
      "  Reward: 0.448\n",
      "Episode 4:\n",
      "  Action: generate\n",
      "  Reward: 0.304\n",
      "Episode 5:\n",
      "  Action: generate\n",
      "  Reward: 0.973\n",
      "\n",
      "📊 Learned Q-values (top 3 for each dimension):\n",
      "\n",
      "cognitive_op:\n",
      "  Index 2: 1.242\n",
      "  Index 3: 0.494\n",
      "  Index 0: 0.407\n",
      "\n",
      "focus:\n",
      "  Index 0: 0.890\n",
      "  Index 3: 0.732\n",
      "  Index 2: 0.645\n",
      "\n",
      "style:\n",
      "  Index 1: 0.819\n",
      "  Index 4: 0.529\n",
      "  Index 0: 0.452\n",
      "\n",
      "connection:\n",
      "  Index 0: 0.865\n",
      "  Index 1: 0.466\n",
      "  Index 4: 0.445\n",
      "\n",
      "output:\n",
      "  Index 0: 0.892\n",
      "  Index 1: 0.697\n",
      "  Index 7: 0.437\n"
     ]
    }
   ],
   "source": [
    "class SimpleRLAgent:\n",
    "    \"\"\"Simplified RL agent for demonstration\"\"\"\n",
    "    def __init__(self):\n",
    "        # Initialize Q-values for each dimension\n",
    "        self.q_values = {\n",
    "            'cognitive_op': np.random.random(len(CognitiveOperation)),\n",
    "            'focus': np.random.random(len(FocusAspect)),\n",
    "            'style': np.random.random(len(ReasoningStyle)),\n",
    "            'connection': np.random.random(len(ConnectionType)),\n",
    "            'output': np.random.random(len(OutputFormat))\n",
    "        }\n",
    "        self.epsilon = 0.1  # Exploration rate\n",
    "    \n",
    "    def get_weights(self):\n",
    "        \"\"\"Convert Q-values to sampling weights\"\"\"\n",
    "        weights = {}\n",
    "        \n",
    "        # Convert arrays to dictionaries with enum values as keys\n",
    "        cog_ops = list(CognitiveOperation)\n",
    "        weights['cognitive_op'] = {\n",
    "            cog_ops[i]: float(self.q_values['cognitive_op'][i]) \n",
    "            for i in range(len(cog_ops))\n",
    "        }\n",
    "        \n",
    "        focus_aspects = list(FocusAspect)\n",
    "        weights['focus'] = {\n",
    "            focus_aspects[i]: float(self.q_values['focus'][i])\n",
    "            for i in range(len(focus_aspects))\n",
    "        }\n",
    "        \n",
    "        styles = list(ReasoningStyle)\n",
    "        weights['style'] = {\n",
    "            styles[i]: float(self.q_values['style'][i])\n",
    "            for i in range(len(styles))\n",
    "        }\n",
    "        \n",
    "        connections = list(ConnectionType)\n",
    "        weights['connection'] = {\n",
    "            connections[i]: float(self.q_values['connection'][i])\n",
    "            for i in range(len(connections))\n",
    "        }\n",
    "        \n",
    "        outputs = list(OutputFormat)\n",
    "        weights['output'] = {\n",
    "            outputs[i]: float(self.q_values['output'][i])\n",
    "            for i in range(len(outputs))\n",
    "        }\n",
    "        \n",
    "        return weights\n",
    "    \n",
    "    def act(self, problem: str) -> ComposingPrompt:\n",
    "        \"\"\"Select action using epsilon-greedy policy\"\"\"\n",
    "        if np.random.random() < self.epsilon:\n",
    "            # Explore: random action\n",
    "            prompt = ComposingPrompt.sample_action()\n",
    "        else:\n",
    "            # Exploit: use learned weights\n",
    "            prompt = ComposingPrompt.sample_action(weights=self.get_weights())\n",
    "        # Set problem context\n",
    "        return prompt.problem_context(problem)\n",
    "    \n",
    "    def update(self, action_vector: dict, reward: float, alpha: float = 0.1):\n",
    "        \"\"\"Update Q-values based on reward\"\"\"\n",
    "        # Update Q-values for selected actions based on the action vector dict\n",
    "        if action_vector['omega']:\n",
    "            # Find index of the selected cognitive operation\n",
    "            for i, op in enumerate(CognitiveOperation):\n",
    "                if op.value == action_vector['omega']:\n",
    "                    self.q_values['cognitive_op'][i] += alpha * reward\n",
    "                    break\n",
    "        \n",
    "        if action_vector['phi']:\n",
    "            # Find index of the selected focus aspect\n",
    "            for i, focus in enumerate(FocusAspect):\n",
    "                if focus.value == action_vector['phi']:\n",
    "                    self.q_values['focus'][i] += alpha * reward\n",
    "                    break\n",
    "        \n",
    "        if action_vector['sigma']:\n",
    "            # Find index of the selected reasoning style\n",
    "            for i, style in enumerate(ReasoningStyle):\n",
    "                if style.value == action_vector['sigma']:\n",
    "                    self.q_values['style'][i] += alpha * reward\n",
    "                    break\n",
    "\n",
    "# Create and train agent\n",
    "agent = SimpleRLAgent()\n",
    "problem = \"Optimize neural network training\"\n",
    "\n",
    "print(\"🤖 RL Agent Learning:\")\n",
    "print(\"=\"*60)\n",
    "\n",
    "# Simulate training episodes\n",
    "for episode in range(5):\n",
    "    # Agent selects action\n",
    "    prompt = agent.act(problem)\n",
    "    \n",
    "    # Get action vector (as dictionary)\n",
    "    action_vector = prompt.get_action_vector()\n",
    "    \n",
    "    # Simulate reward (random for demo)\n",
    "    reward = np.random.random()\n",
    "    \n",
    "    # Update agent\n",
    "    agent.update(action_vector, reward)\n",
    "    \n",
    "    print(f\"Episode {episode+1}:\")\n",
    "    if action_vector['omega']:\n",
    "        print(f\"  Action: {action_vector['omega']}\")\n",
    "    print(f\"  Reward: {reward:.3f}\")\n",
    "\n",
    "print(\"\\n📊 Learned Q-values (top 3 for each dimension):\")\n",
    "for key, q_vals in agent.q_values.items():\n",
    "    top_indices = np.argsort(q_vals)[-3:][::-1]\n",
    "    print(f\"\\n{key}:\")\n",
    "    for idx in top_indices:\n",
    "        print(f\"  Index {idx}: {q_vals[idx]:.3f}\")"
   ]
  },
  {
   "cell_type": "markdown",
   "metadata": {},
   "source": [
    "### 6.3 Human-in-the-Loop Pattern"
   ]
  },
  {
   "cell_type": "code",
   "execution_count": 18,
   "metadata": {
    "execution": {
     "iopub.execute_input": "2025-10-09T04:53:28.720515Z",
     "iopub.status.busy": "2025-10-09T04:53:28.720379Z",
     "iopub.status.idle": "2025-10-09T04:53:28.724903Z",
     "shell.execute_reply": "2025-10-09T04:53:28.724515Z"
    }
   },
   "outputs": [
    {
     "name": "stdout",
     "output_type": "stream",
     "text": [
      "🧑 Interactive Prompt Builder\n",
      "============================================================\n",
      "Problem: Design a real-time analytics pipeline\n",
      "\n",
      "Selected Cognitive Operation: ANALYZE\n",
      "Selected Focus Aspect: PATTERNS\n",
      "Selected Reasoning Style: SYSTEMATIC\n",
      "Selected Connection Type: THEREFORE\n",
      "Selected Output Format: STEPS\n",
      "\n",
      "📝 Generated Prompt:\n",
      "----------------------------------------\n",
      "Let me analyze this problem carefully. I'll focus on identifying key patterns. I'll approach this systematically and methodically. Therefore, I'll present this as clear steps:...\n",
      "\n",
      "⭐ Quality Score: 0.5/10\n",
      "\n",
      "💡 Suggested Refinements:\n",
      "  • Consider adding examples with .llm_add_examples()\n",
      "  • Try chaining with a verification step\n",
      "  • Consider forking to explore alternatives\n"
     ]
    }
   ],
   "source": [
    "def interactive_prompt_builder(problem: str):\n",
    "    \"\"\"Simulate interactive prompt building with human feedback\"\"\"\n",
    "    print(f\"🧑 Interactive Prompt Builder\")\n",
    "    print(\"=\"*60)\n",
    "    print(f\"Problem: {problem}\\n\")\n",
    "    \n",
    "    # Start with base prompt\n",
    "    prompt = ComposingPrompt(problem)\n",
    "    \n",
    "    # Simulate human selections (in real use, these would be user inputs)\n",
    "    selections = [\n",
    "        (\"Cognitive Operation\", \"ANALYZE\", \n",
    "         lambda p: p.cognitive_op(CognitiveOperation.ANALYZE)),\n",
    "        (\"Focus Aspect\", \"PATTERNS\", \n",
    "         lambda p: p.focus(FocusAspect.PATTERNS)),\n",
    "        (\"Reasoning Style\", \"SYSTEMATIC\", \n",
    "         lambda p: p.style(ReasoningStyle.SYSTEMATIC)),\n",
    "        (\"Connection Type\", \"THEREFORE\", \n",
    "         lambda p: p.connect(ConnectionType.THEREFORE)),\n",
    "        (\"Output Format\", \"STEPS\", \n",
    "         lambda p: p.format(OutputFormat.STEPS)),\n",
    "    ]\n",
    "    \n",
    "    for dimension, choice, method in selections:\n",
    "        print(f\"Selected {dimension}: {choice}\")\n",
    "        prompt = method(prompt)\n",
    "    \n",
    "    # Generate and evaluate\n",
    "    final_prompt = prompt.build()\n",
    "    score = prompt.llm_evaluate(mock_provider)\n",
    "    \n",
    "    print(\"\\n📝 Generated Prompt:\")\n",
    "    print(\"-\" * 40)\n",
    "    print(final_prompt[:300] + \"...\")\n",
    "    print(f\"\\n⭐ Quality Score: {score:.1f}/10\")\n",
    "    \n",
    "    # Suggest refinements\n",
    "    print(\"\\n💡 Suggested Refinements:\")\n",
    "    if score < 7:\n",
    "        print(\"  • Consider adding examples with .llm_add_examples()\")\n",
    "        print(\"  • Try chaining with a verification step\")\n",
    "        print(\"  • Consider forking to explore alternatives\")\n",
    "    else:\n",
    "        print(\"  • Prompt looks good! Consider testing with real LLM\")\n",
    "    \n",
    "    return prompt\n",
    "\n",
    "# Run interactive builder\n",
    "human_prompt = interactive_prompt_builder(\"Design a real-time analytics pipeline\")"
   ]
  },
  {
   "cell_type": "markdown",
   "metadata": {},
   "source": [
    "---\n",
    "\n",
    "## Part 7: Extended Dimensions and Meta-Strategies 🎯\n",
    "\n",
    "Beyond the 5 core dimensions, the library provides extended dimensions for finer control:"
   ]
  },
  {
   "cell_type": "code",
   "execution_count": 19,
   "metadata": {
    "execution": {
     "iopub.execute_input": "2025-10-09T04:53:28.726569Z",
     "iopub.status.busy": "2025-10-09T04:53:28.726383Z",
     "iopub.status.idle": "2025-10-09T04:53:28.731060Z",
     "shell.execute_reply": "2025-10-09T04:53:28.730681Z"
    }
   },
   "outputs": [
    {
     "name": "stdout",
     "output_type": "stream",
     "text": [
      "🔷 Extended Dimensions:\n",
      "============================================================\n",
      "\n",
      "🔸 Meta-Strategy:\n",
      "  1. forward_chaining\n",
      "  2. backward_chaining\n",
      "  3. means_ends_analysis\n",
      "  4. case_based_reasoning\n",
      "  5. analogical_reasoning\n",
      "  6. constraint_satisfaction\n",
      "\n",
      "🔸 Confidence Level:\n",
      "  1. very_low\n",
      "  2. low\n",
      "  3. medium\n",
      "  4. high\n",
      "  5. very_high\n",
      "  6. certain\n",
      "\n",
      "🔸 Reasoning Depth:\n",
      "  1. surface\n",
      "  2. shallow\n",
      "  3. moderate\n",
      "  4. deep\n",
      "  5. profound\n",
      "\n",
      "🧠 Advanced Prompt with Extended Dimensions:\n",
      "------------------------------------------------------------\n",
      "Let me analyze this problem carefully. I'll focus on the constraints and limitations. I'll approach this with formal rigor. Therefore, I'll present this with mathematical notation:...\n",
      "\n",
      "📊 Configuration:\n",
      "  Meta-Strategy: BACKWARD_CHAINING\n",
      "  Confidence: MEDIUM\n",
      "  Depth: DEEP\n"
     ]
    }
   ],
   "source": [
    "# Explore extended dimensions\n",
    "print(\"🔷 Extended Dimensions:\")\n",
    "print(\"=\"*60)\n",
    "\n",
    "display_dimension(\"Meta-Strategy\", MetaStrategy)\n",
    "display_dimension(\"Confidence Level\", ConfidenceLevel)\n",
    "display_dimension(\"Reasoning Depth\", ReasoningDepth)\n",
    "\n",
    "# Example using extended dimensions\n",
    "advanced_prompt = (\n",
    "    ComposingPrompt(\"Prove P=NP or P≠NP\")\n",
    "    .cognitive_op(CognitiveOperation.ANALYZE)\n",
    "    .focus(FocusAspect.CONSTRAINTS)\n",
    "    .style(ReasoningStyle.FORMAL)\n",
    "    .meta_strategy(MetaStrategy.BACKWARD_CHAINING)\n",
    "    .confidence(ConfidenceLevel.MEDIUM)\n",
    "    .depth(ReasoningDepth.DEEP)\n",
    "    .connect(ConnectionType.THEREFORE)\n",
    "    .format(OutputFormat.MATHEMATICAL)\n",
    ")\n",
    "\n",
    "print(\"\\n🧠 Advanced Prompt with Extended Dimensions:\")\n",
    "print(\"-\" * 60)\n",
    "print(advanced_prompt.build()[:400] + \"...\")\n",
    "print(\"\\n📊 Configuration:\")\n",
    "print(f\"  Meta-Strategy: BACKWARD_CHAINING\")\n",
    "print(f\"  Confidence: MEDIUM\")\n",
    "print(f\"  Depth: DEEP\")"
   ]
  },
  {
   "cell_type": "markdown",
   "metadata": {},
   "source": [
    "---\n",
    "\n",
    "## Part 8: Practical Examples and Use Cases 💼\n",
    "\n",
    "Let's apply compositional prompting to real-world problems:"
   ]
  },
  {
   "cell_type": "markdown",
   "metadata": {},
   "source": [
    "### Example 1: Software Architecture Design"
   ]
  },
  {
   "cell_type": "code",
   "execution_count": 20,
   "metadata": {
    "execution": {
     "iopub.execute_input": "2025-10-09T04:53:28.732739Z",
     "iopub.status.busy": "2025-10-09T04:53:28.732606Z",
     "iopub.status.idle": "2025-10-09T04:53:28.738213Z",
     "shell.execute_reply": "2025-10-09T04:53:28.737822Z"
    }
   },
   "outputs": [
    {
     "name": "stdout",
     "output_type": "stream",
     "text": [
      "🏗️ Software Architecture Design Pipeline\n",
      "============================================================\n",
      "Requirements: Build a scalable e-commerce platform with real-time inventory management\n",
      "\n",
      "📌 Decomposition:\n",
      "   Operations: decompose\n",
      "   Focus: structure\n",
      "\n",
      "📌 Constraint Analysis:\n",
      "   Operations: analyze\n",
      "   Focus: constraints\n",
      "\n",
      "📌 Architecture Generation:\n",
      "   Operations: generate\n",
      "   Focus: solution\n",
      "\n",
      "📌 Design Verification:\n",
      "   Operations: verify\n",
      "   Focus: correctness\n",
      "\n",
      "\n",
      "📄 Final Architecture Prompt (first 400 chars):\n",
      "------------------------------------------------------------\n",
      "Let me break this problem down systematically. I'll focus on the structural relationships and organization. I'll approach this systematically and methodically. Therefore, I'll present this as a structured list:\n",
      "\n",
      "Let me analyze this problem carefully. I'll focus on the constraints and limitations. I'll approach this with critical analysis. Building on the previous analysis, I'll present this as a s...\n"
     ]
    }
   ],
   "source": [
    "def design_software_architecture(requirements: str):\n",
    "    \"\"\"Multi-stage software architecture design\"\"\"\n",
    "    \n",
    "    print(\"🏗️ Software Architecture Design Pipeline\")\n",
    "    print(\"=\"*60)\n",
    "    print(f\"Requirements: {requirements}\\n\")\n",
    "    \n",
    "    # Stage 1: Decompose requirements\n",
    "    stage1 = (\n",
    "        ComposingPrompt(requirements)\n",
    "        .cognitive_op(CognitiveOperation.DECOMPOSE)\n",
    "        .focus(FocusAspect.STRUCTURE)\n",
    "        .style(ReasoningStyle.SYSTEMATIC)\n",
    "        .connect(ConnectionType.THEREFORE)\n",
    "        .format(OutputFormat.LIST)\n",
    "    )\n",
    "    \n",
    "    # Stage 2: Analyze constraints and patterns\n",
    "    stage2 = (\n",
    "        ComposingPrompt(requirements)\n",
    "        .cognitive_op(CognitiveOperation.ANALYZE)\n",
    "        .focus(FocusAspect.CONSTRAINTS)\n",
    "        .style(ReasoningStyle.CRITICAL)\n",
    "        .connect(ConnectionType.BUILDING_ON)\n",
    "        .format(OutputFormat.LIST)\n",
    "    )\n",
    "    \n",
    "    # Stage 3: Generate architecture\n",
    "    stage3 = (\n",
    "        ComposingPrompt(requirements)\n",
    "        .cognitive_op(CognitiveOperation.GENERATE)\n",
    "        .focus(FocusAspect.SOLUTION)\n",
    "        .style(ReasoningStyle.CREATIVE)\n",
    "        .connect(ConnectionType.THEREFORE)\n",
    "        .format(OutputFormat.NARRATIVE)\n",
    "    )\n",
    "    \n",
    "    # Stage 4: Verify design\n",
    "    stage4 = (\n",
    "        ComposingPrompt(requirements)\n",
    "        .cognitive_op(CognitiveOperation.VERIFY)\n",
    "        .focus(FocusAspect.CORRECTNESS)\n",
    "        .style(ReasoningStyle.FORMAL)\n",
    "        .connect(ConnectionType.HOWEVER)\n",
    "        .format(OutputFormat.LIST)\n",
    "    )\n",
    "    \n",
    "    # Chain all stages (chain returns a list)\n",
    "    pipeline = stage1.chain(stage2, stage3, stage4)\n",
    "    \n",
    "    stages_info = [\n",
    "        (\"Decomposition\", stage1),\n",
    "        (\"Constraint Analysis\", stage2),\n",
    "        (\"Architecture Generation\", stage3),\n",
    "        (\"Design Verification\", stage4)\n",
    "    ]\n",
    "    \n",
    "    for name, stage in stages_info:\n",
    "        print(f\"📌 {name}:\")\n",
    "        print(f\"   Operations: {stage._cognitive_op.value if stage._cognitive_op else 'N/A'}\")\n",
    "        print(f\"   Focus: {stage._focus.value if stage._focus else 'N/A'}\")\n",
    "        print()\n",
    "    \n",
    "    return pipeline\n",
    "\n",
    "# Design a system\n",
    "requirements = \"Build a scalable e-commerce platform with real-time inventory management\"\n",
    "architecture_pipeline = design_software_architecture(requirements)\n",
    "\n",
    "print(\"\\n📄 Final Architecture Prompt (first 400 chars):\")\n",
    "print(\"-\" * 60)\n",
    "# Build all prompts in the pipeline\n",
    "full_prompt = \"\\n\\n\".join(p.build() for p in architecture_pipeline)\n",
    "print(full_prompt[:400] + \"...\")"
   ]
  },
  {
   "cell_type": "markdown",
   "metadata": {},
   "source": [
    "### Example 2: Scientific Research Assistant"
   ]
  },
  {
   "cell_type": "code",
   "execution_count": 21,
   "metadata": {
    "execution": {
     "iopub.execute_input": "2025-10-09T04:53:28.739779Z",
     "iopub.status.busy": "2025-10-09T04:53:28.739617Z",
     "iopub.status.idle": "2025-10-09T04:53:28.744093Z",
     "shell.execute_reply": "2025-10-09T04:53:28.743627Z"
    }
   },
   "outputs": [
    {
     "name": "stdout",
     "output_type": "stream",
     "text": [
      "🔬 Research Assistant - Systematic Approach\n",
      "============================================================\n",
      "Topic: Quantum computing applications in cryptography\n",
      "\n",
      "Research Phases (2 parallel tracks):\n",
      "  Track 1: decompose\n",
      "  Track 2: analyze\n",
      "\n",
      "🔬 Research Assistant - Creative Approach\n",
      "============================================================\n",
      "Topic: Quantum computing applications in cryptography\n",
      "\n",
      "Research Phases (2 parallel tracks):\n",
      "  Track 1: generate\n",
      "  Track 2: abstract\n",
      "\n",
      "🔬 Research Assistant - Critical Approach\n",
      "============================================================\n",
      "Topic: Quantum computing applications in cryptography\n",
      "\n",
      "Research Phases (2 parallel tracks):\n",
      "  Track 1: verify\n",
      "  Track 2: analyze\n",
      "\n"
     ]
    }
   ],
   "source": [
    "def research_assistant(topic: str, approach: str = \"systematic\"):\n",
    "    \"\"\"Create research prompts based on approach\"\"\"\n",
    "    \n",
    "    approaches = {\n",
    "        \"systematic\": {\n",
    "            \"ops\": [CognitiveOperation.DECOMPOSE, CognitiveOperation.ANALYZE],\n",
    "            \"style\": ReasoningStyle.SYSTEMATIC,\n",
    "            \"focus\": FocusAspect.STRUCTURE\n",
    "        },\n",
    "        \"creative\": {\n",
    "            \"ops\": [CognitiveOperation.GENERATE, CognitiveOperation.ABSTRACT],\n",
    "            \"style\": ReasoningStyle.CREATIVE,\n",
    "            \"focus\": FocusAspect.ALTERNATIVE_APPROACHES\n",
    "        },\n",
    "        \"critical\": {\n",
    "            \"ops\": [CognitiveOperation.VERIFY, CognitiveOperation.ANALYZE],\n",
    "            \"style\": ReasoningStyle.CRITICAL,\n",
    "            \"focus\": FocusAspect.EDGE_CASES\n",
    "        }\n",
    "    }\n",
    "    \n",
    "    config = approaches[approach]\n",
    "    \n",
    "    print(f\"🔬 Research Assistant - {approach.capitalize()} Approach\")\n",
    "    print(\"=\"*60)\n",
    "    print(f\"Topic: {topic}\\n\")\n",
    "    \n",
    "    # Create prompts for different research phases\n",
    "    prompts = []\n",
    "    \n",
    "    for op in config[\"ops\"]:\n",
    "        prompt = ComposingPrompt(topic)\n",
    "        \n",
    "        # Set cognitive operation\n",
    "        prompt = prompt.cognitive_op(op)\n",
    "        \n",
    "        # Apply style and focus\n",
    "        prompt = prompt.focus(config[\"focus\"]).style(config[\"style\"])\n",
    "        \n",
    "        prompts.append(prompt)\n",
    "    \n",
    "    print(f\"Research Phases ({len(prompts)} parallel tracks):\")\n",
    "    for i, p in enumerate(prompts, 1):\n",
    "        print(f\"  Track {i}: {p._cognitive_op.value if p._cognitive_op else 'N/A'}\")\n",
    "    \n",
    "    # Return the prompts we created (not a fork)\n",
    "    return prompts\n",
    "\n",
    "# Try different research approaches\n",
    "topic = \"Quantum computing applications in cryptography\"\n",
    "\n",
    "for approach in [\"systematic\", \"creative\", \"critical\"]:\n",
    "    result = research_assistant(topic, approach)\n",
    "    print()"
   ]
  },
  {
   "cell_type": "markdown",
   "metadata": {},
   "source": [
    "### Example 3: Debugging Assistant"
   ]
  },
  {
   "cell_type": "code",
   "execution_count": 22,
   "metadata": {
    "execution": {
     "iopub.execute_input": "2025-10-09T04:53:28.745714Z",
     "iopub.status.busy": "2025-10-09T04:53:28.745567Z",
     "iopub.status.idle": "2025-10-09T04:53:28.751393Z",
     "shell.execute_reply": "2025-10-09T04:53:28.750957Z"
    }
   },
   "outputs": [
    {
     "name": "stdout",
     "output_type": "stream",
     "text": [
      "🐛 Debugging Pipeline Generator\n",
      "============================================================\n",
      "Bug: Memory leak in recursive function causing application crash after 1000 iterations\n",
      "\n",
      "✓ Stage: Initial Analysis\n",
      "  Depth: surface\n",
      "✓ Stage: Deep Decomposition\n",
      "  Depth: moderate\n",
      "✓ Stage: Edge Case Verification\n",
      "  Depth: deep\n",
      "✓ Stage: Solution Synthesis\n",
      "  Depth: Default\n",
      "\n",
      "🔄 Pipeline Status:\n",
      "  Stages: 4\n",
      "  Continue debugging: True\n",
      "  Coherence check: ComposingPrompt(_llm_provider='Memory leak in recursive function causing application crash after 1000 iterations', _cognitive_op=<CognitiveOperation.SYNTHESIZE: 'synthesize'>, _focus=<FocusAspect.SOLUTION: 'solution'>, _style=<ReasoningStyle.CREATIVE: 'creative'>, _connection=<ConnectionType.THEREFORE: 'therefore'>, _output_format=<OutputFormat.STEPS: 'steps'>, _meta_strategy=None, _confidence=<ConfidenceLevel.HIGH: 'high'>, _depth=None, _llm_augmentations=[], _examples=[], _coherence_checks=True, _coherence_provider=<compositional_prompting.MockLLMProvider object at 0x78a88474eae0>, _context_additions=[], _base_prompt='', _problem_context='')\n",
      "\n",
      "📋 Generated Debugging Prompt (preview):\n",
      "------------------------------------------------------------\n",
      "Let me analyze this problem carefully. I'll focus on identifying key patterns. I'll approach this systematically and methodically. Therefore, I'll present this as clear steps:\n",
      "\n",
      "Let me break this problem down systematically. I'll focus on the structural relationships and organization. I'll approach this with critical analysis. Therefore, I'll present this as clear steps:\n",
      "\n",
      "Let me verify this reasoning step by step. I'll approach this with formal rigor. Therefore, I'll present this as clear steps:\n",
      "...\n"
     ]
    }
   ],
   "source": [
    "def create_debugging_pipeline(bug_description: str):\n",
    "    \"\"\"Create a systematic debugging pipeline\"\"\"\n",
    "    \n",
    "    print(\"🐛 Debugging Pipeline Generator\")\n",
    "    print(\"=\"*60)\n",
    "    print(f\"Bug: {bug_description}\\n\")\n",
    "    \n",
    "    # Define debugging stages with increasing depth\n",
    "    stages = [\n",
    "        (\"Initial Analysis\", \n",
    "         lambda p: p.cognitive_op(CognitiveOperation.ANALYZE)\n",
    "                   .focus(FocusAspect.PATTERNS)\n",
    "                   .style(ReasoningStyle.SYSTEMATIC)\n",
    "                   .depth(ReasoningDepth.SURFACE)),\n",
    "        \n",
    "        (\"Deep Decomposition\",\n",
    "         lambda p: p.cognitive_op(CognitiveOperation.DECOMPOSE)\n",
    "                   .focus(FocusAspect.STRUCTURE)\n",
    "                   .style(ReasoningStyle.CRITICAL)\n",
    "                   .depth(ReasoningDepth.MODERATE)),\n",
    "        \n",
    "        (\"Edge Case Verification\",\n",
    "         lambda p: p.cognitive_op(CognitiveOperation.VERIFY)\n",
    "                   .focus(FocusAspect.EDGE_CASES)\n",
    "                   .style(ReasoningStyle.FORMAL)\n",
    "                   .depth(ReasoningDepth.DEEP)),\n",
    "        \n",
    "        (\"Solution Synthesis\",\n",
    "         lambda p: p.cognitive_op(CognitiveOperation.SYNTHESIZE)\n",
    "                   .focus(FocusAspect.SOLUTION)\n",
    "                   .style(ReasoningStyle.CREATIVE)\n",
    "                   .confidence(ConfidenceLevel.HIGH)),\n",
    "    ]\n",
    "    \n",
    "    # Build pipeline\n",
    "    prompt_stages = []\n",
    "    for name, builder in stages:\n",
    "        stage = builder(ComposingPrompt(bug_description))\n",
    "        stage = stage.connect(ConnectionType.THEREFORE).format(OutputFormat.STEPS)\n",
    "        prompt_stages.append(stage)\n",
    "        \n",
    "        print(f\"✓ Stage: {name}\")\n",
    "        print(f\"  Depth: {stage._depth.value if stage._depth else 'Default'}\")\n",
    "    \n",
    "    # Chain all stages (returns a list)\n",
    "    if prompt_stages:\n",
    "        pipeline = prompt_stages[0].chain(*prompt_stages[1:])\n",
    "        # Get the last prompt in the chain for termination check\n",
    "        last_prompt = pipeline[-1] if pipeline else prompt_stages[0]\n",
    "        \n",
    "        # Create a simulated state for termination check\n",
    "        simulated_state = \"The bug has been identified and fixed successfully\"\n",
    "        \n",
    "        # Add termination check with a state\n",
    "        should_continue = not last_prompt.llm_termination(simulated_state, provider=mock_provider)\n",
    "        \n",
    "        print(f\"\\n🔄 Pipeline Status:\")\n",
    "        print(f\"  Stages: {len(pipeline)}\")\n",
    "        print(f\"  Continue debugging: {should_continue}\")\n",
    "        print(f\"  Coherence check: {last_prompt.llm_coherence_check(mock_provider)}\")\n",
    "    else:\n",
    "        pipeline = []\n",
    "    \n",
    "    return pipeline\n",
    "\n",
    "# Create debugging pipeline\n",
    "bug = \"Memory leak in recursive function causing application crash after 1000 iterations\"\n",
    "debug_pipeline = create_debugging_pipeline(bug)\n",
    "\n",
    "print(\"\\n📋 Generated Debugging Prompt (preview):\")\n",
    "print(\"-\" * 60)\n",
    "if debug_pipeline:\n",
    "    full_prompt = \"\\n\\n\".join(p.build() for p in debug_pipeline)\n",
    "    print(full_prompt[:500] + \"...\")"
   ]
  },
  {
   "cell_type": "markdown",
   "metadata": {},
   "source": [
    "---\n",
    "\n",
    "## Part 9: Performance Analysis and Optimization 📊\n",
    "\n",
    "Let's analyze the performance characteristics of different compositional strategies:"
   ]
  },
  {
   "cell_type": "code",
   "execution_count": 23,
   "metadata": {
    "execution": {
     "iopub.execute_input": "2025-10-09T04:53:28.752845Z",
     "iopub.status.busy": "2025-10-09T04:53:28.752675Z",
     "iopub.status.idle": "2025-10-09T04:53:28.914763Z",
     "shell.execute_reply": "2025-10-09T04:53:28.914292Z"
    }
   },
   "outputs": [
    {
     "name": "stderr",
     "output_type": "stream",
     "text": [
      "/tmp/ipykernel_1598420/3296637617.py:78: MatplotlibDeprecationWarning: The 'labels' parameter of boxplot() has been renamed 'tick_labels' since Matplotlib 3.9; support for the old name will be dropped in 3.11.\n",
      "  ax2.boxplot(box_data[0], labels=strategies)\n"
     ]
    },
    {
     "data": {
      "image/png": "[encoded data removed]",
      "text/plain": [
       "<Figure size 1400x500 with 2 Axes>"
      ]
     },
     "metadata": {},
     "output_type": "display_data"
    },
    {
     "name": "stdout",
     "output_type": "stream",
     "text": [
      "\n",
      "📈 Benchmark Results:\n",
      "============================================================\n",
      "Analytical  : μ=0.50, σ=0.00, range=[0.5, 0.5]\n",
      "Creative    : μ=0.50, σ=0.00, range=[0.5, 0.5]\n",
      "Systematic  : μ=0.50, σ=0.00, range=[0.5, 0.5]\n",
      "Hybrid      : μ=0.50, σ=0.00, range=[0.5, 0.5]\n",
      "\n",
      "🏆 Best Strategy: Analytical\n"
     ]
    }
   ],
   "source": [
    "def benchmark_strategies(problem: str, n_trials: int = 100):\n",
    "    \"\"\"Benchmark different compositional strategies\"\"\"\n",
    "    \n",
    "    strategies = {\n",
    "        \"Analytical\": lambda: (\n",
    "            ComposingPrompt(problem)\n",
    "            .cognitive_op(CognitiveOperation.ANALYZE)\n",
    "            .focus(FocusAspect.CONSTRAINTS)\n",
    "            .style(ReasoningStyle.FORMAL)\n",
    "        ),\n",
    "        \"Creative\": lambda: (\n",
    "            ComposingPrompt(problem)\n",
    "            .cognitive_op(CognitiveOperation.GENERATE)\n",
    "            .focus(FocusAspect.ALTERNATIVE_APPROACHES)\n",
    "            .style(ReasoningStyle.CREATIVE)\n",
    "        ),\n",
    "        \"Systematic\": lambda: (\n",
    "            ComposingPrompt(problem)\n",
    "            .cognitive_op(CognitiveOperation.DECOMPOSE)\n",
    "            .focus(FocusAspect.STRUCTURE)\n",
    "            .style(ReasoningStyle.SYSTEMATIC)\n",
    "        ),\n",
    "        \"Hybrid\": lambda: (\n",
    "            ComposingPrompt(problem)\n",
    "            .cognitive_op(CognitiveOperation.ANALYZE)\n",
    "            .focus(FocusAspect.PATTERNS)\n",
    "            .style(ReasoningStyle.SYSTEMATIC)\n",
    "            .chain(ComposingPrompt(problem)\n",
    "                  .cognitive_op(CognitiveOperation.GENERATE)\n",
    "                  .focus(FocusAspect.SOLUTION)\n",
    "                  .style(ReasoningStyle.CREATIVE))\n",
    "        )\n",
    "    }\n",
    "    \n",
    "    results = {}\n",
    "    \n",
    "    for name, strategy_fn in strategies.items():\n",
    "        scores = []\n",
    "        for _ in range(n_trials):\n",
    "            prompt_or_chain = strategy_fn()\n",
    "            # Handle both single prompts and chains\n",
    "            if isinstance(prompt_or_chain, list):\n",
    "                # For chains, evaluate the last prompt\n",
    "                score = prompt_or_chain[-1].llm_evaluate(mock_provider)\n",
    "            else:\n",
    "                score = prompt_or_chain.llm_evaluate(mock_provider)\n",
    "            scores.append(score)\n",
    "        \n",
    "        results[name] = {\n",
    "            \"mean\": np.mean(scores),\n",
    "            \"std\": np.std(scores),\n",
    "            \"min\": np.min(scores),\n",
    "            \"max\": np.max(scores)\n",
    "        }\n",
    "    \n",
    "    return results\n",
    "\n",
    "# Run benchmark\n",
    "problem = \"Optimize database query performance for large-scale data\"\n",
    "results = benchmark_strategies(problem, n_trials=50)\n",
    "\n",
    "# Visualize results\n",
    "fig, (ax1, ax2) = plt.subplots(1, 2, figsize=(14, 5))\n",
    "\n",
    "# Bar chart of mean scores\n",
    "strategies = list(results.keys())\n",
    "means = [results[s][\"mean\"] for s in strategies]\n",
    "stds = [results[s][\"std\"] for s in strategies]\n",
    "\n",
    "ax1.bar(strategies, means, yerr=stds, capsize=10, color=['#1f77b4', '#ff7f0e', '#2ca02c', '#d62728'])\n",
    "ax1.set_ylabel(\"Quality Score\")\n",
    "ax1.set_title(\"Strategy Performance Comparison\")\n",
    "ax1.set_ylim([0, 10])\n",
    "ax1.grid(True, alpha=0.3)\n",
    "\n",
    "# Box plot for distribution\n",
    "box_data = [[np.random.normal(results[s][\"mean\"], results[s][\"std\"], 50) for s in strategies]]\n",
    "ax2.boxplot(box_data[0], labels=strategies)\n",
    "ax2.set_ylabel(\"Quality Score\")\n",
    "ax2.set_title(\"Score Distribution by Strategy\")\n",
    "ax2.grid(True, alpha=0.3)\n",
    "\n",
    "plt.tight_layout()\n",
    "plt.show()\n",
    "\n",
    "# Print detailed results\n",
    "print(\"\\n📈 Benchmark Results:\")\n",
    "print(\"=\"*60)\n",
    "for name, stats in results.items():\n",
    "    print(f\"{name:12s}: μ={stats['mean']:.2f}, σ={stats['std']:.2f}, range=[{stats['min']:.1f}, {stats['max']:.1f}]\")\n",
    "\n",
    "best_strategy = max(results.items(), key=lambda x: x[1]['mean'])[0]\n",
    "print(f\"\\n🏆 Best Strategy: {best_strategy}\")"
   ]
  },
  {
   "cell_type": "markdown",
   "metadata": {},
   "source": [
    "---\n",
    "\n",
    "## Part 10: Exercises and Challenges 🎓\n",
    "\n",
    "Test your understanding with these hands-on exercises:"
   ]
  },
  {
   "cell_type": "markdown",
   "metadata": {},
   "source": [
    "### Exercise 1: Custom Strategy Builder\n",
    "\n",
    "Create a function that builds a custom compositional strategy based on problem characteristics:"
   ]
  },
  {
   "cell_type": "code",
   "execution_count": 24,
   "metadata": {
    "execution": {
     "iopub.execute_input": "2025-10-09T04:53:28.916208Z",
     "iopub.status.busy": "2025-10-09T04:53:28.916065Z",
     "iopub.status.idle": "2025-10-09T04:53:28.920677Z",
     "shell.execute_reply": "2025-10-09T04:53:28.920245Z"
    }
   },
   "outputs": [
    {
     "name": "stdout",
     "output_type": "stream",
     "text": [
      "🎯 Exercise 1: Custom Strategy Builder\n",
      "============================================================\n",
      "\n",
      "Problem Type: mathematical\n",
      "Problem: Prove that sqrt(2) is irrational...\n",
      "✓ Strategy configured successfully\n",
      "\n",
      "Problem Type: creative\n",
      "Problem: Write a story about time travel...\n",
      "✓ Strategy configured successfully\n",
      "\n",
      "Problem Type: technical\n",
      "Problem: Debug a race condition...\n",
      "✓ Strategy configured successfully\n"
     ]
    }
   ],
   "source": [
    "def exercise_1_custom_strategy():\n",
    "    \"\"\"\n",
    "    TODO: Implement a function that:\n",
    "    1. Analyzes the problem type (mathematical, creative, technical, etc.)\n",
    "    2. Selects appropriate cognitive operations\n",
    "    3. Builds an optimized prompt pipeline\n",
    "    \"\"\"\n",
    "    \n",
    "    def build_custom_strategy(problem: str, problem_type: str) -> ComposingPrompt:\n",
    "        # YOUR CODE HERE\n",
    "        # Hint: Use if/elif to handle different problem_types\n",
    "        # Return a configured ComposingPrompt object\n",
    "        \n",
    "        if problem_type == \"mathematical\":\n",
    "            return (\n",
    "                ComposingPrompt(problem)\n",
    "                .cognitive_op(CognitiveOperation.ANALYZE)\n",
    "                .focus(FocusAspect.CONSTRAINTS)\n",
    "                .style(ReasoningStyle.FORMAL)\n",
    "                .connect(ConnectionType.THEREFORE)\n",
    "                .format(OutputFormat.MATHEMATICAL)\n",
    "            )\n",
    "        elif problem_type == \"creative\":\n",
    "            return (\n",
    "                ComposingPrompt(problem)\n",
    "                .cognitive_op(CognitiveOperation.GENERATE)\n",
    "                .focus(FocusAspect.ALTERNATIVE_APPROACHES)\n",
    "                .style(ReasoningStyle.CREATIVE)\n",
    "                .connect(ConnectionType.ALTERNATIVELY)\n",
    "                .format(OutputFormat.NARRATIVE)\n",
    "            )\n",
    "        else:\n",
    "            # Default technical strategy\n",
    "            return (\n",
    "                ComposingPrompt(problem)\n",
    "                .cognitive_op(CognitiveOperation.DECOMPOSE)\n",
    "                .focus(FocusAspect.STRUCTURE)\n",
    "                .style(ReasoningStyle.SYSTEMATIC)\n",
    "                .connect(ConnectionType.THEREFORE)\n",
    "                .format(OutputFormat.STEPS)\n",
    "            )\n",
    "    \n",
    "    # Test your implementation\n",
    "    test_cases = [\n",
    "        (\"Prove that sqrt(2) is irrational\", \"mathematical\"),\n",
    "        (\"Write a story about time travel\", \"creative\"),\n",
    "        (\"Debug a race condition\", \"technical\")\n",
    "    ]\n",
    "    \n",
    "    print(\"🎯 Exercise 1: Custom Strategy Builder\")\n",
    "    print(\"=\"*60)\n",
    "    for problem, prob_type in test_cases:\n",
    "        prompt = build_custom_strategy(problem, prob_type)\n",
    "        print(f\"\\nProblem Type: {prob_type}\")\n",
    "        print(f\"Problem: {problem[:50]}...\")\n",
    "        # Verify the prompt was built correctly\n",
    "        if prompt:\n",
    "            print(f\"✓ Strategy configured successfully\")\n",
    "        else:\n",
    "            print(f\"✗ Need to implement {prob_type} strategy\")\n",
    "\n",
    "# Run exercise\n",
    "exercise_1_custom_strategy()"
   ]
  },
  {
   "cell_type": "markdown",
   "metadata": {},
   "source": [
    "### Exercise 2: Action Space Explorer\n",
    "\n",
    "Implement a function that explores the action space to find optimal combinations:"
   ]
  },
  {
   "cell_type": "code",
   "execution_count": 25,
   "metadata": {
    "execution": {
     "iopub.execute_input": "2025-10-09T04:53:28.921963Z",
     "iopub.status.busy": "2025-10-09T04:53:28.921812Z",
     "iopub.status.idle": "2025-10-09T04:53:28.925944Z",
     "shell.execute_reply": "2025-10-09T04:53:28.925581Z"
    }
   },
   "outputs": [
    {
     "name": "stdout",
     "output_type": "stream",
     "text": [
      "🔍 Exercise 2: Action Space Explorer\n",
      "============================================================\n",
      "Best configuration found:\n",
      "  Score: 0.50\n",
      "  Cognitive Op: synthesize\n",
      "✓ Explorer working correctly!\n"
     ]
    }
   ],
   "source": [
    "def exercise_2_action_explorer():\n",
    "    \"\"\"\n",
    "    TODO: Implement an explorer that:\n",
    "    1. Samples N random actions from the space\n",
    "    2. Evaluates each action\n",
    "    3. Returns the best action configuration\n",
    "    \"\"\"\n",
    "    \n",
    "    def explore_action_space(problem: str, n_samples: int = 10) -> dict:  # Changed Dict to dict\n",
    "        # YOUR CODE HERE\n",
    "        # Hint: Use ComposingPrompt.sample_action() in a loop\n",
    "        # Evaluate each with .llm_evaluate()\n",
    "        # Track the best configuration\n",
    "        \n",
    "        best_score = 0\n",
    "        best_config = None\n",
    "        \n",
    "        for i in range(n_samples):\n",
    "            # Sample a random action and set problem context\n",
    "            prompt = ComposingPrompt.sample_action()\n",
    "            prompt = prompt.problem_context(problem)\n",
    "            \n",
    "            # Evaluate it\n",
    "            score = prompt.llm_evaluate(mock_provider)\n",
    "            \n",
    "            # Track if it's the best\n",
    "            if score > best_score:\n",
    "                best_score = score\n",
    "                best_config = {\n",
    "                    \"prompt\": prompt,\n",
    "                    \"score\": score,\n",
    "                    \"cognitive_op\": prompt._cognitive_op.value if prompt._cognitive_op else None\n",
    "                }\n",
    "        \n",
    "        return best_config\n",
    "    \n",
    "    # Test your implementation\n",
    "    print(\"🔍 Exercise 2: Action Space Explorer\")\n",
    "    print(\"=\"*60)\n",
    "    \n",
    "    problem = \"Design a recommendation system\"\n",
    "    best = explore_action_space(problem, n_samples=20)\n",
    "    \n",
    "    if best:\n",
    "        print(f\"Best configuration found:\")\n",
    "        print(f\"  Score: {best['score']:.2f}\")\n",
    "        print(f\"  Cognitive Op: {best['cognitive_op']}\")\n",
    "        print(\"✓ Explorer working correctly!\")\n",
    "    else:\n",
    "        print(\"✗ Explorer needs implementation\")\n",
    "\n",
    "# Run exercise\n",
    "exercise_2_action_explorer()"
   ]
  },
  {
   "cell_type": "markdown",
   "metadata": {},
   "source": [
    "### Exercise 3: Chain Optimizer\n",
    "\n",
    "Build an optimizer that finds the best chain of prompts:"
   ]
  },
  {
   "cell_type": "code",
   "execution_count": 26,
   "metadata": {
    "execution": {
     "iopub.execute_input": "2025-10-09T04:53:28.927186Z",
     "iopub.status.busy": "2025-10-09T04:53:28.927071Z",
     "iopub.status.idle": "2025-10-09T04:53:28.931233Z",
     "shell.execute_reply": "2025-10-09T04:53:28.930804Z"
    }
   },
   "outputs": [
    {
     "name": "stdout",
     "output_type": "stream",
     "text": [
      "⛓️ Exercise 3: Chain Optimizer\n",
      "============================================================\n",
      "Optimized chain found:\n",
      "  Chain length: 3\n",
      "  Quality score: 0.50\n",
      "✓ Chain optimizer working!\n"
     ]
    }
   ],
   "source": [
    "def exercise_3_chain_optimizer():\n",
    "    \"\"\"\n",
    "    TODO: Implement a chain optimizer that:\n",
    "    1. Takes a problem and desired chain length\n",
    "    2. Builds multiple candidate chains\n",
    "    3. Evaluates and returns the best chain\n",
    "    \"\"\"\n",
    "    \n",
    "    def optimize_chain(problem: str, chain_length: int = 3):\n",
    "        # YOUR CODE HERE\n",
    "        # Hint: Create multiple chains with different operations\n",
    "        # Use .chain() to connect prompts\n",
    "        # Evaluate complete chains\n",
    "        \n",
    "        # Example solution structure:\n",
    "        best_chain = None\n",
    "        best_score = 0\n",
    "        \n",
    "        # Try different chain configurations\n",
    "        for _ in range(5):  # Try 5 different chains\n",
    "            prompts = []\n",
    "            for step in range(chain_length):\n",
    "                # Create a random prompt for this step and set problem context\n",
    "                step_prompt = ComposingPrompt.sample_action()\n",
    "                step_prompt = step_prompt.problem_context(problem)\n",
    "                prompts.append(step_prompt)\n",
    "            \n",
    "            # Chain them together\n",
    "            if prompts:\n",
    "                chain = prompts[0].chain(*prompts[1:]) if len(prompts) > 1 else [prompts[0]]\n",
    "                \n",
    "                # Evaluate the chain (use last prompt in chain)\n",
    "                score = chain[-1].llm_evaluate(mock_provider) if chain else 0\n",
    "                \n",
    "                if score > best_score:\n",
    "                    best_score = score\n",
    "                    best_chain = chain\n",
    "        \n",
    "        return best_chain, best_score\n",
    "    \n",
    "    # Test your implementation  \n",
    "    print(\"⛓️ Exercise 3: Chain Optimizer\")\n",
    "    print(\"=\"*60)\n",
    "    \n",
    "    problem = \"Implement a distributed consensus algorithm\"\n",
    "    best_chain, score = optimize_chain(problem, chain_length=3)\n",
    "    \n",
    "    if best_chain:\n",
    "        print(f\"Optimized chain found:\")\n",
    "        print(f\"  Chain length: {len(best_chain)}\")\n",
    "        print(f\"  Quality score: {score:.2f}\")\n",
    "        print(\"✓ Chain optimizer working!\")\n",
    "    else:\n",
    "        print(\"✗ Chain optimizer needs implementation\")\n",
    "\n",
    "# Run exercise\n",
    "exercise_3_chain_optimizer()"
   ]
  },
  {
   "cell_type": "markdown",
   "metadata": {},
   "source": [
    "---\n",
    "\n",
    "## Conclusion and Next Steps 🎯\n",
    "\n",
    "Congratulations! You've explored the compositional prompting framework in depth. Let's summarize what you've learned:"
   ]
  },
  {
   "cell_type": "markdown",
   "metadata": {},
   "source": [
    "### Key Takeaways\n",
    "\n",
    "1. **Compositional Action Space**: Prompts are factored into 5 orthogonal dimensions, reducing complexity from 30,720 combinations to 64 manageable parameters.\n",
    "\n",
    "2. **Fluid API**: Elegant method chaining for natural prompt construction.\n",
    "\n",
    "3. **Advanced Composition**: Sequential chaining, parallel forking, and algebraic composition enable sophisticated reasoning patterns.\n",
    "\n",
    "4. **External System Integration**: The framework provides action vectors and weighted sampling for MCTS, RL agents, and other systems.\n",
    "\n",
    "5. **LLM Augmentation**: Built-in methods for coherence checking, quality evaluation, and smart termination.\n",
    "\n",
    "### Practical Applications\n",
    "\n",
    "- **Software Development**: Architecture design, debugging, code generation\n",
    "- **Research**: Literature review, hypothesis generation, experimental design  \n",
    "- **Problem Solving**: Mathematical proofs, optimization, constraint satisfaction\n",
    "- **Creative Tasks**: Story generation, design exploration, brainstorming\n",
    "\n",
    "### Next Steps\n",
    "\n",
    "1. **Experiment with Real LLMs**: Replace `MockLLMProvider` with `OpenAIProvider` or `AnthropicProvider`\n",
    "2. **Build Custom Providers**: Extend `LLMProvider` for your specific needs\n",
    "3. **Integrate with MCTS/RL**: Use the action space in your reasoning systems\n",
    "4. **Explore Enhancement Layer**: Try graph-based RAG and decomposition templates\n",
    "5. **Contribute**: Share your compositional strategies and use cases\n",
    "\n",
    "### Resources\n",
    "\n",
    "- **Documentation**: See `CLAUDE.md` for detailed API reference\n",
    "- **Examples**: Check `compositional_prompting/examples/` for more demos\n",
    "- **Installation**: `pip install -e \".[all]\"` for all providers\n",
    "\n",
    "---\n",
    "\n",
    "Thank you for exploring compositional prompting! This framework transforms prompt engineering from art to science, enabling systematic exploration of the reasoning space. Happy prompting! 🚀"
   ]
  },
  {
   "cell_type": "code",
   "execution_count": 27,
   "metadata": {
    "execution": {
     "iopub.execute_input": "2025-10-09T04:53:28.932686Z",
     "iopub.status.busy": "2025-10-09T04:53:28.932565Z",
     "iopub.status.idle": "2025-10-09T04:53:29.040166Z",
     "shell.execute_reply": "2025-10-09T04:53:29.039678Z"
    }
   },
   "outputs": [
    {
     "data": {
      "image/png": "[encoded data removed]",
      "text/plain": [
       "<Figure size 1200x800 with 1 Axes>"
      ]
     },
     "metadata": {},
     "output_type": "display_data"
    },
    {
     "name": "stdout",
     "output_type": "stream",
     "text": [
      "\n",
      "🎊 Thank you for completing the Compositional Prompting tutorial!\n",
      "Ready to build systematic reasoning systems? Let's go! 🚀\n"
     ]
    }
   ],
   "source": [
    "# Final visualization: The Compositional Prompting Landscape\n",
    "fig, ax = plt.subplots(figsize=(12, 8))\n",
    "\n",
    "# Create a conceptual map of the framework\n",
    "dimensions = ['Cognitive\\nOperation', 'Focus\\nAspect', 'Reasoning\\nStyle', \n",
    "              'Connection\\nType', 'Output\\nFormat']\n",
    "sizes = [len(CognitiveOperation), len(FocusAspect), len(ReasoningStyle), \n",
    "         len(ConnectionType), len(OutputFormat)]\n",
    "\n",
    "# Create bubble chart\n",
    "x = np.arange(len(dimensions))\n",
    "y = [0.5] * len(dimensions)\n",
    "colors = plt.cm.viridis(np.linspace(0.2, 0.8, len(dimensions)))\n",
    "\n",
    "for i, (dim, size) in enumerate(zip(dimensions, sizes)):\n",
    "    ax.scatter(x[i], y[i], s=size*500, c=[colors[i]], alpha=0.6, edgecolors='black', linewidth=2)\n",
    "    ax.text(x[i], y[i], f\"{dim}\\n({size} options)\", ha='center', va='center', fontweight='bold')\n",
    "\n",
    "# Add connections\n",
    "for i in range(len(x)-1):\n",
    "    ax.plot([x[i], x[i+1]], [y[i], y[i+1]], 'k--', alpha=0.3, linewidth=1)\n",
    "\n",
    "ax.set_xlim(-0.5, len(dimensions)-0.5)\n",
    "ax.set_ylim(0, 1)\n",
    "ax.axis('off')\n",
    "ax.set_title('The Compositional Prompting Framework', fontsize=16, fontweight='bold', pad=20)\n",
    "\n",
    "# Add framework stats\n",
    "total_combos = np.prod(sizes)\n",
    "total_params = np.sum(sizes)\n",
    "ax.text(len(dimensions)/2, 0.1, \n",
    "        f\"{total_combos:,} possible combinations → {total_params} parameters\",\n",
    "        ha='center', fontsize=12, style='italic')\n",
    "\n",
    "plt.tight_layout()\n",
    "plt.show()\n",
    "\n",
    "print(\"\\n🎊 Thank you for completing the Compositional Prompting tutorial!\")\n",
    "print(\"Ready to build systematic reasoning systems? Let's go! 🚀\")"
   ]
  }
 ],
 "metadata": {
  "kernelspec": {
   "display_name": "Python 3 (ipykernel)",
   "language": "python",
   "name": "python3"
  },
  "language_info": {
   "codemirror_mode": {
    "name": "ipython",
    "version": 3
   },
   "file_extension": ".py",
   "mimetype": "text/x-python",
   "name": "python",
   "nbconvert_exporter": "python",
   "pygments_lexer": "ipython3",
   "version": "3.12.3"
  }
 },
 "nbformat": 4,
 "nbformat_minor": 4
}
